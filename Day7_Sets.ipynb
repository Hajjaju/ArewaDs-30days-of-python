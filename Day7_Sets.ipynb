{
 "cells": [
  {
   "cell_type": "markdown",
   "metadata": {},
   "source": [
    "## Assignment day 7\n",
    "#### Exercises: Level 1"
   ]
  },
  {
   "cell_type": "code",
   "execution_count": 3,
   "metadata": {},
   "outputs": [
    {
     "name": "stdout",
     "output_type": "stream",
     "text": [
      "7\n",
      "{'Oracle', 'Google', 'Facebook', 'Twitter', 'Microsoft', 'Apple', 'IBM', 'Amazon'}\n",
      "{'Yahoo', 'Amazon', 'WhatsApp', 'Google', 'Microsoft', 'Instagram', 'Apple', 'Oracle', 'Twitter', 'Facebook', 'IBM'}\n",
      "{'Yahoo', 'WhatsApp', 'Google', 'Microsoft', 'Instagram', 'Apple', 'Oracle', 'Twitter', 'Facebook', 'IBM'}\n",
      "{19, 20, 22, 24, 25, 26, 27, 28}\n",
      "{19, 20, 22, 24, 25, 26}\n",
      "True\n",
      "False\n",
      "{19, 20, 22, 24, 25, 26, 27, 28}\n",
      "{19, 20, 22, 24, 25, 26, 27, 28}\n",
      "{27, 28}\n",
      "{19, 22, 24, 25, 26}\n",
      "8\n",
      "5\n"
     ]
    }
   ],
   "source": [
    "it_companies = {'Facebook', 'Google', 'Microsoft', 'Apple', 'IBM', 'Oracle', 'Amazon'}\n",
    "A = {19, 22, 24, 20, 25, 26}\n",
    "B = {19, 22, 20, 25, 26, 24, 28, 27}\n",
    "age = [22, 19, 24, 25, 26, 24, 25, 24]\n",
    "print(len(it_companies))\n",
    "it_companies.add('Twitter')\n",
    "print(it_companies)\n",
    "it_companies.update(['Instagram', 'WhatsApp', 'Yahoo'])\n",
    "print(it_companies)\n",
    "it_companies.remove('Amazon')\n",
    "print(it_companies)\n",
    "A_U_B = A.union(B)\n",
    "print(A_U_B)\n",
    "print(A.intersection(B))\n",
    "print(A.issubset(B))\n",
    "print(A.isdisjoint(B))\n",
    "print(A.union(B))\n",
    "print(B.union(B))\n",
    "print(A.symmetric_difference(B))\n",
    "del A\n",
    "del B\n",
    "Age = set(age)\n",
    "print(Age)\n",
    "print(len(age))\n",
    "print(len(Age))\n"
   ]
  },
  {
   "cell_type": "markdown",
   "metadata": {},
   "source": [
    "## Difference between: String, List, Tuple and Set\n",
    "#### A string is any data written as a text, under '', \"\" or ''' ''' quote\n",
    "#### A list is created by placing items in a square bracket [], seperated by commas, it can have any number of items and of different types; integer, float, strings etc.\n",
    "#### Tuple is similar to list, but use parenthesis () insted of square brackets, tuple is immutable while list is mutable\n",
    "#### Set is a collection of unordered and un-indexed distinct element  "
   ]
  }
 ],
 "metadata": {
  "kernelspec": {
   "display_name": "newkernel",
   "language": "python",
   "name": "newkernel"
  },
  "language_info": {
   "codemirror_mode": {
    "name": "ipython",
    "version": 3
   },
   "file_extension": ".py",
   "mimetype": "text/x-python",
   "name": "python",
   "nbconvert_exporter": "python",
   "pygments_lexer": "ipython3",
   "version": "3.12.0"
  }
 },
 "nbformat": 4,
 "nbformat_minor": 2
}
