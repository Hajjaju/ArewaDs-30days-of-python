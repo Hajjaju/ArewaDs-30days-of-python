{
 "cells": [
  {
   "cell_type": "markdown",
   "metadata": {},
   "source": [
    "## Assignment day 18\n",
    "#### Excercises: level 1"
   ]
  },
  {
   "cell_type": "code",
   "execution_count": null,
   "metadata": {},
   "outputs": [],
   "source": [
    "#What is the most frequent word in the following paragraph?\n",
    "paragraph = [(6, 'love'),(5, 'you'),(3, 'can'),(2, 'what'),(2, 'teaching'),(2, 'not'),(2, 'else'),(2, 'do'),(2, 'I'),(1, 'which'),(1, 'to'),(1, 'the'), (1, 'something'),(1, 'if'),(1, 'give'),(1, 'develop'),(1, 'capabilities'),(1, 'application'),(1, 'an'),(1, 'all'),(1, 'Python'),(1, 'If')]\n",
    "from collections import Counter\n",
    "paragraph = [(6, 'love'), (5, 'you'), (3, 'can'), (2, 'what'), (2, 'teaching'), (2, 'not'), (2, 'else'), (2, 'do'), (2, 'I'), (1, 'which'), (1, 'to'), (1, 'the'), (1, 'something'), (1, 'if'), (1, 'give'), (1, 'develop'), (1, 'capabilities'), (1, 'application'), (1, 'an'), (1, 'all'), (1, 'Python'), (1, 'If')]\n",
    "words_and_counts = [(word, count) for count, word in paragraph]\n",
    "word_counts = Counter(words_and_counts)\n",
    "most_frequent_words = word_counts.most_common(1)\n",
    "word_counts = {word: count for word, count in word_counts.items()}\n",
    "most_frequent_word = max(word_counts, key=word_counts.get)\n",
    "print(f\"The most frequent word in the paragraph list is '{most_frequent_word}'\")\n",
    "#The position of some particles on the horizontal x-axis are -12, -4, -3 and -1 in the negative direction, 0 at origin, 4 and 8 in the positive direction. Extract these numbers from this whole text and find the distance between the two furthest particles.\n",
    "points = ['-12', '-4', '-3', '-1', '0', '4', '8']\n",
    "sorted_points =  [-12, -4, -3, -1, -1, 0, 2, 4, 8]\n",
    "distance = 8 -(-12) \n",
    "points_text = \"The position of some particles on the horizontal x-axis are -12, -4, -3 and -1 in the negative direction, 0 at origin, 4 and 8 in the positive direction.\"\n",
    "import re\n",
    "numbers = re.findall(re,points_text)\n",
    "points = [int(x) for x in numbers]\n",
    "sorted_points = sorted(points)\n",
    "distance = max(sorted_points) - min(sorted_points)\n",
    "print(f\"The distance between the furthest particles is {distance}.\")"
   ]
  },
  {
   "cell_type": "markdown",
   "metadata": {},
   "source": [
    "#### Level 2 exercises"
   ]
  },
  {
   "cell_type": "code",
   "execution_count": 18,
   "metadata": {},
   "outputs": [],
   "source": [
    "#Write a pattern which identifies if a string is a valid python variable\n",
    "def is_valid_variable(variable_name):\n",
    "    is_valid_variable('first_name')\n",
    "    is_valid_variable('first-name')\n",
    "    is_valid_variable('1first_name')\n",
    "    is_valid_variable('firstname')\n",
    "    import re\n",
    "    VALID_VARIABLE_PATTERN = r^[a-zA-Z_]\n",
    "def is_valid_variable(variable_name):\n",
    "    match = re.match(VALID_VARIABLE_PATTERN, variable_name)\n",
    "    return bool(match)\n",
    "    examples = [\"first_name\", \"first-name\", \"1first_name\", \"firstname\"]\n",
    "    for example in examples:\n",
    "        print(f\"is_valid_variable('{example}') = {is_valid_variable(example)}\")"
   ]
  },
  {
   "cell_type": "markdown",
   "metadata": {},
   "source": [
    "#### Level 3 exercises"
   ]
  },
  {
   "cell_type": "code",
   "execution_count": null,
   "metadata": {},
   "outputs": [],
   "source": [
    "#Clean the following text. After cleaning, count three most frequent words in the string.\n",
    "sentence = '''%I $am@% a %tea@cher%, &and& I lo%#ve %tea@ching%;. There $is nothing; &as& mo@re rewarding as educa@ting &and& @emp%o@wering peo@ple. ;I found tea@ching m%o@re interesting tha@n any other %jo@bs. %Do@es thi%s mo@tivate yo@u to be a tea@cher!?'''\n",
    "import re\n",
    "from collections import Counter\n",
    "sentence = '''%I $am@% a %tea@cher%, &and& I lo%#ve %tea@ching%;. There $is nothing; &as& mo@re rewarding as educa@ting &and& @emp%o@wering peo@ple. ;I found tea@ching m%o@re interesting tha@n any other %jo@bs. %Do@es thi%s mo@tivate yo@u to be a tea@cher!?'''\n",
    "cleaned_sentence = re.sub(r\"[^a-zA-Z0-9\\\\s]\", \"\", sentence.lower())  \n",
    "cleaned_sentence = re.sub(r\\s+\\\", \\\" \\\", cleaned_sentence)  \n",
    "words = cleaned_sentence.split()\n",
    "word_counts = Counter(words)\n",
    "most_frequent_words = word_counts.most_common(3)\n",
    "print(\"Cleaned sentence:\", cleaned_sentence)\n",
    "print(\"Three most frequent words:\")\n",
    "for word, count in most_frequent_words:\n",
    "print(f\"{word} ({count})\")"
   ]
  }
 ],
 "metadata": {
  "kernelspec": {
   "display_name": "newkernel",
   "language": "python",
   "name": "newkernel"
  },
  "language_info": {
   "codemirror_mode": {
    "name": "ipython",
    "version": 3
   },
   "file_extension": ".py",
   "mimetype": "text/x-python",
   "name": "python",
   "nbconvert_exporter": "python",
   "pygments_lexer": "ipython3",
   "version": "3.12.0"
  }
 },
 "nbformat": 4,
 "nbformat_minor": 2
}
