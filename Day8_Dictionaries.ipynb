{
 "cells": [
  {
   "cell_type": "markdown",
   "metadata": {},
   "source": [
    "## Assignment Day 8\n",
    "#### Exercises: Day 8"
   ]
  },
  {
   "cell_type": "code",
   "execution_count": 10,
   "metadata": {},
   "outputs": [
    {
     "name": "stdout",
     "output_type": "stream",
     "text": [
      "{'name': 'Buddy', 'color': 'brown', 'breed': 'local', 'legs': 'straight', 'age': 'four'}\n",
      "{'first_name': 'Hajara', 'last_name': 'Yahaya', 'gender': 'female', 'age': '20', 'marital_status': 'single', 'skill': 'python', 'country': 'Nigeria', 'city': 'Bauchi', 'address': 'Railway'}\n",
      "9\n",
      "python\n",
      "{'first_name': 'Hajara', 'last_name': 'Yahaya', 'gender': 'female', 'age': '20', 'marital_status': 'single', 'skill': 'HTML', 'country': 'Nigeria', 'city': 'Bauchi', 'address': 'Railway'}\n",
      "dict_keys(['first_name', 'last_name', 'gender', 'age', 'marital_status', 'skill', 'country', 'city', 'address'])\n",
      "dict_values(['Hajara', 'Yahaya', 'female', '20', 'single', 'HTML', 'Nigeria', 'Bauchi', 'Railway'])\n",
      "dict_items([('first_name', 'Hajara'), ('last_name', 'Yahaya'), ('gender', 'female'), ('age', '20'), ('marital_status', 'single'), ('skill', 'HTML'), ('country', 'Nigeria'), ('city', 'Bauchi'), ('address', 'Railway')])\n"
     ]
    }
   ],
   "source": [
    "Dog = {'name':'Buddy', 'color':'brown', 'breed':'local', 'legs':'straight', 'age':'four'}\n",
    "print(Dog)\n",
    "student_dictionary = {'first_name':'Hajara', 'last_name':'Yahaya', 'gender':'female', 'age':'20', 'marital_status':'single', 'skill':'python', 'country':'Nigeria', 'city':'Bauchi', 'address':'Railway'}\n",
    "print(student_dictionary)\n",
    "print(len(student_dictionary))\n",
    "print(student_dictionary.get('skill'))\n",
    "\n",
    "student_dictionary['skill'] = 'HTML'\n",
    "print(student_dictionary)\n",
    "dictionary_keys = student_dictionary.keys()\n",
    "print(dictionary_keys)\n",
    "dictionary_values = student_dictionary.values()\n",
    "print(dictionary_values)\n",
    "print(student_dictionary.items())\n",
    "del student_dictionary['gender']\n",
    "del Dog"
   ]
  }
 ],
 "metadata": {
  "kernelspec": {
   "display_name": "newkernel",
   "language": "python",
   "name": "newkernel"
  },
  "language_info": {
   "codemirror_mode": {
    "name": "ipython",
    "version": 3
   },
   "file_extension": ".py",
   "mimetype": "text/x-python",
   "name": "python",
   "nbconvert_exporter": "python",
   "pygments_lexer": "ipython3",
   "version": "3.12.0"
  }
 },
 "nbformat": 4,
 "nbformat_minor": 2
}
