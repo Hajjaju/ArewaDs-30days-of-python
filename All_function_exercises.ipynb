{
 "cells": [
  {
   "cell_type": "markdown",
   "metadata": {},
   "source": [
    "#### ALL EXERCISES IN PYTHON CRASH COURSE BOOK, CHAPTER 8 SOLUIONS"
   ]
  },
  {
   "cell_type": "code",
   "execution_count": 2,
   "metadata": {},
   "outputs": [
    {
     "name": "stdout",
     "output_type": "stream",
     "text": [
      "we are learning how to write a function in Python in this chapter\n"
     ]
    }
   ],
   "source": [
    " #8-1 Message\n",
    "def display_message():\n",
    "    \"A function that display what I am learning\"\n",
    "    print(\"we are learning how to write a function in Python in this chapter\")\n",
    "display_message()\n"
   ]
  },
  {
   "cell_type": "code",
   "execution_count": 3,
   "metadata": {},
   "outputs": [
    {
     "name": "stdout",
     "output_type": "stream",
     "text": [
      "One of my favourite books is It Ends with Us\n"
     ]
    }
   ],
   "source": [
    "#8-2 Favourite Book\n",
    "def favourite_book(title):\n",
    "    \"\"\"Display the title of my favourite book\n",
    "    Args:\n",
    "        title: The name of my favourite book\n",
    "    \"\"\"\n",
    "    print(f\"One of my favourite books is {title}\")\n",
    "# calling the function\n",
    "favourite_book('It Ends with Us')\n"
   ]
  },
  {
   "cell_type": "code",
   "execution_count": 8,
   "metadata": {},
   "outputs": [
    {
     "name": "stdout",
     "output_type": "stream",
     "text": [
      "The size of the T-Shirt is Small, I LUV SHEHU\n",
      "The size of the T-Shirt is Large, I LUV HAWWWA\n"
     ]
    }
   ],
   "source": [
    "\n",
    "# 8-3 T-Shirt\n",
    "def make_shirt(size, message):\n",
    "    \"\"\"A function to print the size of shirt and a message to print\n",
    "    Args:\n",
    "        size : T-Shirt size\n",
    "        message : Message to print on the short\n",
    "    \"\"\"\n",
    "    print(f\"The size of the T-Shirt is {size}, {message}\")\n",
    "    \n",
    "# calling function\n",
    "make_shirt('Small', 'I LUV SHEHU')\n",
    "make_shirt(size='Large', message='I LUV HAWWWA')"
   ]
  },
  {
   "cell_type": "code",
   "execution_count": 7,
   "metadata": {},
   "outputs": [
    {
     "name": "stdout",
     "output_type": "stream",
     "text": [
      "The size of the T-Shirt is large, I love Python\n",
      "The size of the T-Shirt is medium, I love Python\n",
      "The size of the T-Shirt is small, I am learning Python..\n"
     ]
    }
   ],
   "source": [
    "# 8-4 Large Shirt\n",
    "def make_shirt(size='large', message='I love Python'):\n",
    "    \"\"\"display T-short information\n",
    "    Args:\n",
    "        size (str, optional): _description_. Defaults to 'large'.\n",
    "        message (str, optional): _description_. Defaults to 'I love Python'.\n",
    "    \"\"\"\n",
    "    print(f\"The size of the T-Shirt is {size}, {message}\")\n",
    "\n",
    "# calling function\n",
    "make_shirt()\n",
    "make_shirt(size='medium')\n",
    "make_shirt(size='small', message='I am learning Python..')"
   ]
  },
  {
   "cell_type": "code",
   "execution_count": 9,
   "metadata": {},
   "outputs": [
    {
     "name": "stdout",
     "output_type": "stream",
     "text": [
      "Kano is in None\n",
      "Katsina is in Nigeria\n",
      "Maradi is in Niger\n"
     ]
    }
   ],
   "source": [
    "\n",
    "# 8-5 Cities\n",
    "def describe_city(name_of_city, country=None):\n",
    "    print(f'{name_of_city} is in {country}')\n",
    "\n",
    "# calling function\n",
    "describe_city('Kano')\n",
    "describe_city(name_of_city='Katsina', country='Nigeria')\n",
    "describe_city(name_of_city='Maradi', country='Niger')"
   ]
  },
  {
   "cell_type": "code",
   "execution_count": 10,
   "metadata": {},
   "outputs": [
    {
     "name": "stdout",
     "output_type": "stream",
     "text": [
      "Katsina, Nigeria\n",
      "Maradi, Niger\n",
      "Delhi, India\n"
     ]
    }
   ],
   "source": [
    "# 8-6 Ciyt Names\n",
    "def city_country(name_of_city, country):\n",
    "    \"\"\"A function that return name of city and its country\n",
    "    Args:\n",
    "        name_of_city (str): City name\n",
    "        country (str): it country\n",
    "    \"\"\"\n",
    "    return f\"{name_of_city}, {country}\"\n",
    "\n",
    "# calling function\n",
    "city_name = city_country(name_of_city='Katsina', country='Nigeria')\n",
    "print(city_name)\n",
    "city_name = city_country(name_of_city='Maradi', country='Niger')\n",
    "print(city_name)\n",
    "city_name = city_country(name_of_city='Delhi', country='India')\n",
    "print(city_name)\n"
   ]
  },
  {
   "cell_type": "code",
   "execution_count": 11,
   "metadata": {},
   "outputs": [
    {
     "name": "stdout",
     "output_type": "stream",
     "text": [
      "{'name': 'Hamisu Breaker', 'title': 'Bayanzuba'}\n",
      "{'name': 'Nazifi Asnanic', 'title': 'Halitta'}\n",
      "{'name': 'Salim Smart', 'title': 'Saseen'}\n",
      "{'name': 'Sadiq Saleh', 'title': 'Darasul Auwal', 'number': 9}\n"
     ]
    }
   ],
   "source": [
    "# 8-7 Album\n",
    "def make_album(artisit_name, album_title, number_of_song=None):\n",
    "    \"\"\"Store the artist name and album title in a dictionary\n",
    "    Args:\n",
    "        artisit_name (_type_): _description_\n",
    "        album_title (_type_): _description_\n",
    "    \"\"\"\n",
    "    result = {'name': artisit_name, 'title':album_title}\n",
    "    if number_of_song:\n",
    "        result['number'] = number_of_song\n",
    "    return result\n",
    "\n",
    "# calling function\n",
    "album_info = make_album(artisit_name='Hamisu Breaker', album_title='Bayanzuba')\n",
    "print(album_info)\n",
    "album_info = make_album(artisit_name='Nazifi Asnanic', album_title='Halitta')\n",
    "print(album_info)\n",
    "album_info = make_album(artisit_name='Salim Smart', album_title='Saseen')\n",
    "print(album_info)\n",
    "album_info = make_album(artisit_name='Sadiq Saleh', album_title='Darasul Auwal', number_of_song=9)\n",
    "print(album_info)\n"
   ]
  },
  {
   "cell_type": "code",
   "execution_count": 12,
   "metadata": {},
   "outputs": [
    {
     "name": "stdout",
     "output_type": "stream",
     "text": [
      "Please, tell me the information about the album or \"q\" to quit\n"
     ]
    }
   ],
   "source": [
    "# 8-8 User Albums\n",
    "while True:\n",
    "    print('Please, tell me the information about the album or \"q\" to quit')\n",
    "    name = input('Enter the name of the Artist: ')\n",
    "    if name == 'q':\n",
    "        break\n",
    "    title = input(\"Enter the title of the album: \")\n",
    "    if title == 'q':\n",
    "        break\n",
    "\n",
    "    info = make_album(artisit_name=name, album_title=title)\n",
    "    print(info)\n"
   ]
  },
  {
   "cell_type": "code",
   "execution_count": 1,
   "metadata": {},
   "outputs": [
    {
     "name": "stdout",
     "output_type": "stream",
     "text": [
      "I am happy now\n",
      "Python challenge has ended\n"
     ]
    }
   ],
   "source": [
    "# 8-9 Message\n",
    "message = ['I am happy now', 'Python challenge has ended']\n",
    "\n",
    "def show_message(lst):\n",
    "    for i in lst:\n",
    "        print(i)\n",
    "\n",
    "#calling function\n",
    "show_message(lst=message)"
   ]
  },
  {
   "cell_type": "code",
   "execution_count": 2,
   "metadata": {},
   "outputs": [
    {
     "name": "stdout",
     "output_type": "stream",
     "text": [
      "Send message: it was realy challenging\n",
      "Send message: we learned python\n",
      "Send message: we are starting data science\n",
      "it was realy challenging\n",
      "we learned python\n",
      "we are starting data science\n"
     ]
    }
   ],
   "source": [
    "# 8-10 Sending Messages\n",
    "def send_message(message, sent_message):\n",
    "\n",
    "    while message:\n",
    "        current_message = message.pop()\n",
    "        print(f\"Send message: {current_message}\")\n",
    "        sent_message.append(current_message)\n",
    "\n",
    "message = ['we are starting data science', 'we learned python', 'it was realy challenging']\n",
    "sent_messages = [] \n",
    "\n",
    "send_message(message=message, sent_message=sent_messages)\n",
    "show_message(lst=sent_messages)\n"
   ]
  },
  {
   "cell_type": "code",
   "execution_count": 3,
   "metadata": {},
   "outputs": [
    {
     "name": "stdout",
     "output_type": "stream",
     "text": [
      "Send message: it was realy challenging\n",
      "Send message: we learned python\n",
      "Send message: we are starting data science\n",
      "Original List\n",
      "['we are starting data science', 'we learned python', 'it was realy challenging']\n"
     ]
    }
   ],
   "source": [
    "# 8 - 11 Archived Messages\n",
    "message = ['we are starting data science', 'we learned python', 'it was realy challenging']\n",
    "send_message(message=message[:], sent_message=sent_messages)\n",
    "print('Original List')\n",
    "print(message)"
   ]
  },
  {
   "cell_type": "code",
   "execution_count": 6,
   "metadata": {},
   "outputs": [
    {
     "name": "stdout",
     "output_type": "stream",
     "text": [
      "Sandwich summary:\n",
      "lettuce\n",
      "tomato\n",
      "sardine\n",
      "egg\n",
      "mayonise\n",
      "Sandwich summary:\n",
      "cream\n",
      "ketchup\n",
      "Sandwich summary:\n",
      "butter\n",
      "meat\n"
     ]
    }
   ],
   "source": [
    "# 8 - 12 Sandwiches\n",
    "def sandwiches(*args):\n",
    "    print('Sandwich summary:')\n",
    "    for arg in args:\n",
    "        print(arg)\n",
    "\n",
    "# calling function\n",
    "sandwiches('lettuce','tomato','sardine','egg', 'mayonise')\n",
    "sandwiches('cream', 'ketchup')\n",
    "sandwiches('butter', 'meat')"
   ]
  },
  {
   "cell_type": "code",
   "execution_count": 8,
   "metadata": {},
   "outputs": [
    {
     "name": "stdout",
     "output_type": "stream",
     "text": [
      "{'firstname': 'Hauwa', 'lastname': 'Zakari'}\n",
      "{'Tribe': 'Fulani', 'country': 'Nigeria', 'firstname': 'Hauwa', 'lastname': 'Zakari'}\n"
     ]
    }
   ],
   "source": [
    "# 8 - 13\n",
    "def build_profile(first, last, **userprofile):\n",
    "    userprofile['firstname'] = first\n",
    "    userprofile['lastname'] = last\n",
    "    return userprofile\n",
    "\n",
    "# calling function\n",
    "person1 = build_profile('Hauwa', 'Zakari' )\n",
    "print(person1)\n",
    "person2 = build_profile('Hauwa', 'Zakari', Tribe ='Fulani', country ='Nigeria')\n",
    "print(person2)\n"
   ]
  },
  {
   "cell_type": "code",
   "execution_count": 9,
   "metadata": {},
   "outputs": [
    {
     "name": "stdout",
     "output_type": "stream",
     "text": [
      "{'color': 'blue', 'tow_package': True, 'manufacturer': 'subaru', 'model': 'outback'}\n"
     ]
    }
   ],
   "source": [
    "# 8- 14 Cars\n",
    "def make_car(manufacturer, model, **car_info):\n",
    "    car_info['manufacturer'] = manufacturer\n",
    "    car_info['model'] = model\n",
    "    return car_info\n",
    "\n",
    "# calling function\n",
    "car = make_car('subaru', 'outback', color='blue', tow_package=True)\n",
    "print(car)"
   ]
  },
  {
   "cell_type": "code",
   "execution_count": 11,
   "metadata": {},
   "outputs": [],
   "source": [
    "\n",
    "# 8 -15 Printing Models: created a file printing_functions and printing_models \n",
    "def print_models(unprinted_designs, completed_models):\n",
    "    while unprinted_designs:\n",
    "        current_design = unprinted_designs.pop()\n",
    "        print(f\"Printing model: {current_design}\")\n",
    "        completed_models.append(current_design)\n",
    "\n",
    "def show_completed_models(completed_models):\n",
    "    print(\"\\nCompleted models:\")\n",
    "    for model in completed_models:\n",
    "        print(model)          \n"
   ]
  },
  {
   "cell_type": "code",
   "execution_count": null,
   "metadata": {},
   "outputs": [],
   "source": [
    "\n",
    "# 8 - 16: Import\n",
    "import build_profile\n",
    "from build_profile import build_profile\n",
    "from build_profile import build_profile as bf\n",
    "import build_profile as uf\n",
    "from build_profile import *"
   ]
  },
  {
   "cell_type": "code",
   "execution_count": null,
   "metadata": {},
   "outputs": [],
   "source": [
    "# 8-17 Styling Functions: Done"
   ]
  }
 ],
 "metadata": {
  "kernelspec": {
   "display_name": "newkernel",
   "language": "python",
   "name": "newkernel"
  },
  "language_info": {
   "codemirror_mode": {
    "name": "ipython",
    "version": 3
   },
   "file_extension": ".py",
   "mimetype": "text/x-python",
   "name": "python",
   "nbconvert_exporter": "python",
   "pygments_lexer": "ipython3",
   "version": "3.12.0"
  }
 },
 "nbformat": 4,
 "nbformat_minor": 2
}
