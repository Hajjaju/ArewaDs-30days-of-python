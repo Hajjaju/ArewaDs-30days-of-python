{
 "cells": [
  {
   "cell_type": "markdown",
   "metadata": {},
   "source": [
    "# Assignment day 21\n",
    "### Exercises level 1"
   ]
  },
  {
   "cell_type": "code",
   "execution_count": 13,
   "metadata": {},
   "outputs": [
    {
     "name": "stdout",
     "output_type": "stream",
     "text": [
      "Count: 25\n",
      "Sum:  744\n",
      "Min:  24\n",
      "Max:  38\n",
      "Range:  14\n",
      "Mean:  29.76\n",
      "Median:  29\n",
      "Mode:  {26, 5}\n",
      "Standard Deviation:  4.188364836066696\n",
      "Variance:  17.5424\n",
      "Frequency Distribution:  [(8.0, 31), (20.0, 26), (8.0, 34), (8.0, 37), (16.0, 27), (12.0, 32), (8.0, 24), (8.0, 33), (4.0, 25), (4.0, 38), (4.0, 29)]\n"
     ]
    }
   ],
   "source": [
    "# Python has the module called statistics and we can use this module to do all the statistical calculations.\n",
    "    #However, to learn how to make function and reuse function let us try to develop a program, which calculates the measure of \n",
    "    #central tendency of a sample (mean, median, mode) and measure of variability (range, variance, standard deviation). \n",
    "    #In addition to those measures,find the min, max, count, percentile, and frequency distribution of the sample.\n",
    "    #You can create a class called Statistics and create all the functions that do statistical calculations as methods for the Statistics class. \n",
    "class Statistics:\n",
    "        def __init__(self, data):\n",
    "            self.data = data\n",
    "    \n",
    "        def count(self):\n",
    "            return len(self.data)\n",
    "    \n",
    "        def sum(self):\n",
    "            return sum(self.data)\n",
    "    \n",
    "        def min(self):\n",
    "            return min(self.data)\n",
    "    \n",
    "        def max(self):\n",
    "            return max(self.data)\n",
    "    \n",
    "        def range(self):\n",
    "            return self.max() - self.min()\n",
    "    \n",
    "        def mean(self):\n",
    "            return self.sum() / self.count()\n",
    "    \n",
    "        def median(self):\n",
    "            sorted_data = sorted(self.data)\n",
    "            middle = self.count() // 2\n",
    "            if self.count() % 2 == 0:\n",
    "                return (sorted_data[middle - 1] + sorted_data[middle]) / 2\n",
    "            else:\n",
    "                return sorted_data[middle]\n",
    "    \n",
    "        def mode(self):\n",
    "            counts = {}\n",
    "            for item in self.data:\n",
    "                counts[item] = counts.get(item, 0) + 1\n",
    "            max_count = max(counts.values())\n",
    "            modes = [key for key, value in counts.items() if value == max_count]\n",
    "            return {modes[0], max_count}\n",
    "    \n",
    "        def std(self):\n",
    "            mean = self.mean()\n",
    "            variance = sum((x - mean) ** 2 for x in self.data) / self.count()\n",
    "            return variance ** 0.5\n",
    "    \n",
    "        def var(self):\n",
    "            mean = self.mean()\n",
    "            return sum((x - mean) ** 2 for x in self.data) / self.count()\n",
    "    \n",
    "        def freq_dist(self):\n",
    "            counts = {}\n",
    "            for item in self.data:\n",
    "               counts[item] = counts.get(item, 0) + 1\n",
    "            return [(value / self.count() * 100, key) for key, value in counts.items()]\n",
    "\n",
    "ages = [31, 26, 34, 37, 27, 26, 32, 32, 26, 27, 27, 24, 32, 33, 27, 25, 26, 38, 37, 31, 34, 24, 33, 29, 26]\n",
    "data = Statistics(ages)\n",
    "\n",
    "print('Count:', data.count())\n",
    "print('Sum: ', data.sum())\n",
    "print('Min: ', data.min())\n",
    "print('Max: ', data.max())\n",
    "print('Range: ', data.range())\n",
    "print('Mean: ', data.mean())\n",
    "print('Median: ', data.median())\n",
    "print('Mode: ', data.mode())\n",
    "print('Standard Deviation: ', data.std())\n",
    "print('Variance: ', data.var())\n",
    "print('Frequency Distribution: ', data.freq_dist())"
   ]
  },
  {
   "cell_type": "markdown",
   "metadata": {},
   "source": [
    "### Exercices level 2"
   ]
  },
  {
   "cell_type": "code",
   "execution_count": 2,
   "metadata": {},
   "outputs": [
    {
     "name": "stdout",
     "output_type": "stream",
     "text": [
      "name: HAUWAU ZAKARIYAU\n",
      "Total Income: 75000\n",
      "Total Expense: 8000\n",
      "Balance: 67000\n",
      "None\n"
     ]
    }
   ],
   "source": [
    "#Create a class called PersonAccount. It has firstname, lastname, incomes, expenses properties and it has total_income,\\n\",\n",
    "#total_expense, account_info, add_income, add_expense and account_balance methods. Incomes is a set of incomes and its description.\\n\",\n",
    "#The same goes for expenses.\n",
    "class PersonAccount:\n",
    "       def __init__(self, firstname, lastname):\n",
    "           self.firstname = firstname\n",
    "           self.lastname = lastname\n",
    "           self.incomes = set()  \n",
    "           self.expenses = set()  \n",
    "    \n",
    "       def total_income(self):\n",
    "            return sum(amount for amount, _ in self.incomes)\n",
    "    \n",
    "       def total_expense(self):\n",
    "           return sum(amount for amount, _ in self.expenses)\n",
    "    \n",
    "       def account_info(self):\n",
    "           print(f\"name: {self.firstname} {self.lastname}\")\n",
    "           print(f\"Total Income: {self.total_income()}\")\n",
    "           print(f\"Total Expense: {self.total_expense()}\")\n",
    "           print(f\"Balance: {self.account_balance()}\")\n",
    "    \n",
    "       def add_income(self, amount, description):\n",
    "           self.incomes.add((amount, description))\n",
    "    \n",
    "       def add_expense(self, amount, description):\n",
    "           self.expenses.add((amount, description))\n",
    "    \n",
    "       def account_balance(self):\n",
    "           return self.total_income() - self.total_expense()\n",
    "    \n",
    "account = PersonAccount(\"HAUWAU\", \"ZAKARIYAU\")\n",
    "account.add_income(55000, \"Salary\")\n",
    "account.add_income(20000, \"Business\")\n",
    "account.add_expense(5000, \"Feeding\")\n",
    "account.add_expense(3000, \"Groceries\")\n",
    "    \n",
    "print(account.account_info())"
   ]
  }
 ],
 "metadata": {
  "kernelspec": {
   "display_name": "newkernel",
   "language": "python",
   "name": "newkernel"
  },
  "language_info": {
   "codemirror_mode": {
    "name": "ipython",
    "version": 3
   },
   "file_extension": ".py",
   "mimetype": "text/x-python",
   "name": "python",
   "nbconvert_exporter": "python",
   "pygments_lexer": "ipython3",
   "version": "3.12.0"
  }
 },
 "nbformat": 4,
 "nbformat_minor": 2
}
