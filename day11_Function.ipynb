{
 "cells": [
  {
   "cell_type": "markdown",
   "metadata": {},
   "source": [
    "## Day 11 Assignment\n",
    "#### Exercises: Level 1"
   ]
  },
  {
   "cell_type": "code",
   "execution_count": 1,
   "metadata": {},
   "outputs": [
    {
     "name": "stdout",
     "output_type": "stream",
     "text": [
      "the sum of two numbers: 3 and 6 is 9\n"
     ]
    }
   ],
   "source": [
    "def add_two_numbers(num_one, num_two):\n",
    "    return num_one + num_two\n",
    "print(f'the sum of two numbers: 3 and 6 is {add_two_numbers(3,6)}')"
   ]
  },
  {
   "cell_type": "code",
   "execution_count": 2,
   "metadata": {},
   "outputs": [
    {
     "name": "stdout",
     "output_type": "stream",
     "text": [
      "Area of circle with 10 radius is 314\n"
     ]
    }
   ],
   "source": [
    "def area_of_circle(radius):\n",
    "    return 3.14*radius*radius\n",
    "print(f'Area of circle with 10 radius is {area_of_circle(10):.0f}')"
   ]
  },
  {
   "cell_type": "code",
   "execution_count": 3,
   "metadata": {},
   "outputs": [
    {
     "name": "stdout",
     "output_type": "stream",
     "text": [
      "Add 4 and 6, 10\n"
     ]
    }
   ],
   "source": [
    "import sys \n",
    "def add_all_nums(*argt):\n",
    "    total =0\n",
    "    for i in argt:\n",
    "        if str(i).isdigit():\n",
    "            total += int(i)\n",
    "        else:\n",
    "            return sys.exit('enter number only. Try again')\n",
    "    return total\n",
    "print(f'Add 4 and 6, {add_all_nums(4, 6)}')"
   ]
  },
  {
   "cell_type": "code",
   "execution_count": 6,
   "metadata": {},
   "outputs": [
    {
     "name": "stdout",
     "output_type": "stream",
     "text": [
      "Temperature in fahrenheit is equal to 48.2  F\n"
     ]
    }
   ],
   "source": [
    "def convert_celsius_to_fahrenheit(c):\n",
    "    return(c*(9/5)) + 32\n",
    "print(f'Temperature in fahrenheit is equal to {convert_celsius_to_fahrenheit(9)}  F')\n"
   ]
  },
  {
   "cell_type": "code",
   "execution_count": 8,
   "metadata": {},
   "outputs": [
    {
     "name": "stdout",
     "output_type": "stream",
     "text": [
      "season is summer\n"
     ]
    }
   ],
   "source": [
    "def check_season(month):\n",
    "    if month in ['September', 'October', 'November']:\n",
    "        return 'autum'\n",
    "    elif month in ['December', 'January', 'February']:\n",
    "        return 'winter'\n",
    "    elif month in ['march', 'april', 'may']:\n",
    "        return 'spring'\n",
    "    else:\n",
    "        return 'summer'\n",
    "print(f'season is {check_season('july')}')\n",
    "    "
   ]
  },
  {
   "cell_type": "code",
   "execution_count": 10,
   "metadata": {},
   "outputs": [
    {
     "name": "stdout",
     "output_type": "stream",
     "text": [
      "slope of x1=2, x2=3, y1=4 and y2=5 is equal to 1.00\n"
     ]
    }
   ],
   "source": [
    "def calculate_slope(x1, x2, y1, y2):\n",
    "    return (y2 - y1) / (x2 - x1)\n",
    "print(f'slope of x1=2, x2=3, y1=4 and y2=5 is equal to {calculate_slope(2,3,4,5):.2f}')"
   ]
  },
  {
   "cell_type": "code",
   "execution_count": 13,
   "metadata": {},
   "outputs": [
    {
     "name": "stdout",
     "output_type": "stream",
     "text": [
      "solution to the equation is (-2.585786437626905, -5.414213562373095)\n"
     ]
    }
   ],
   "source": [
    "import math \n",
    "def solve_quadratic (a, b, c):\n",
    "    d = b ** 2 - 4 *a*c\n",
    "    if d > 0:\n",
    "        r1 = -b + math.sqrt(d/(2*a))\n",
    "        r2 = -b - math.sqrt(d/(2*a))\n",
    "        return r1, r2\n",
    "    elif d == 0:\n",
    "        r1 = -b/ (2*a)\n",
    "        r2 = -b/ (2*a)\n",
    "        return r1, r2\n",
    "    else:\n",
    "        return 'imaginary root'\n",
    "print(f'solution to the equation is {solve_quadratic(1,4,3)}')"
   ]
  },
  {
   "cell_type": "code",
   "execution_count": 2,
   "metadata": {},
   "outputs": [
    {
     "name": "stdout",
     "output_type": "stream",
     "text": [
      "3\n",
      "2\n",
      "4\n",
      "2\n",
      "Usman\n",
      "Shehu\n"
     ]
    }
   ],
   "source": [
    "def print_list(para_list):\n",
    "    for para_list in para_list:\n",
    "        print(para_list) \n",
    "print_list([3,2,4,2, \"Usman\", \"Shehu\"])"
   ]
  },
  {
   "cell_type": "code",
   "execution_count": 3,
   "metadata": {},
   "outputs": [
    {
     "name": "stdout",
     "output_type": "stream",
     "text": [
      "2\n",
      "4\n",
      "8\n",
      "6\n",
      "5\n",
      "7\n",
      "3\n",
      "4\n"
     ]
    }
   ],
   "source": [
    "def reverse_list(para_list):\n",
    "    for i in range (1, len(para_list)+1):\n",
    "        print(para_list[-i])\n",
    "reverse_list([4,3,7,5,6,8,4,2])"
   ]
  },
  {
   "cell_type": "code",
   "execution_count": 6,
   "metadata": {},
   "outputs": [
    {
     "name": "stdout",
     "output_type": "stream",
     "text": [
      "['Halima', 'Fatima', 'Shehu', 'Sani']\n"
     ]
    }
   ],
   "source": [
    "def capitalize_list_item(lists):\n",
    "    return [lists.capitalize() for lists in lists]\n",
    "print(capitalize_list_item(['halima', 'fatima', 'shehu', 'sani']))"
   ]
  },
  {
   "cell_type": "code",
   "execution_count": 7,
   "metadata": {},
   "outputs": [
    {
     "name": "stdout",
     "output_type": "stream",
     "text": [
      "[7, 9, 5, 'Shehu']\n"
     ]
    }
   ],
   "source": [
    "def add_item(pa_list, item):\n",
    "    pa_list.append(item)\n",
    "    return pa_list\n",
    "print(add_item([7,9,5], 'Shehu'))"
   ]
  },
  {
   "cell_type": "code",
   "execution_count": 8,
   "metadata": {},
   "outputs": [
    {
     "name": "stdout",
     "output_type": "stream",
     "text": [
      "[7, 3, 2]\n"
     ]
    }
   ],
   "source": [
    "def remove_item(pa_list, item):\n",
    "    pa_list.remove(item)\n",
    "    return pa_list\n",
    "print((remove_item([7,3,2,4], 4)))"
   ]
  },
  {
   "cell_type": "code",
   "execution_count": 10,
   "metadata": {},
   "outputs": [
    {
     "name": "stdout",
     "output_type": "stream",
     "text": [
      "the sum of 0 to 100 is equal to,5050\n"
     ]
    }
   ],
   "source": [
    "def sum_of_number(number):\n",
    "    total = 0\n",
    "    for i in range(number + 1):\n",
    "        total += i\n",
    "    return total\n",
    "print(f'the sum of 0 to 100 is equal to,{sum_of_number(100)}')"
   ]
  },
  {
   "cell_type": "code",
   "execution_count": 11,
   "metadata": {},
   "outputs": [
    {
     "name": "stdout",
     "output_type": "stream",
     "text": [
      "The sum of odd numbers, 0 to 30 is, 464\n"
     ]
    }
   ],
   "source": [
    "def sum_of_odds(number):\n",
    "    total = 0\n",
    "    for i in range(1, number + 1):\n",
    "        if i % 2 != i:\n",
    "            total += i\n",
    "        else:\n",
    "            continue\n",
    "    return total\n",
    "print(f'The sum of odd numbers, 0 to 30 is, {sum_of_odds(30)}')"
   ]
  },
  {
   "cell_type": "code",
   "execution_count": 16,
   "metadata": {},
   "outputs": [
    {
     "name": "stdout",
     "output_type": "stream",
     "text": [
      "the sum of even numbers, 0 to 30 is, 240\n"
     ]
    }
   ],
   "source": [
    "def sum_of_even(number):\n",
    "    total = 0\n",
    "    for i in range(1, number + 1):\n",
    "        if i % 2 == 0:\n",
    "            total += i\n",
    "        else:\n",
    "            continue\n",
    "    return total\n",
    "print(f'the sum of even numbers, 0 to 30 is, {sum_of_even(30)}')"
   ]
  },
  {
   "cell_type": "markdown",
   "metadata": {},
   "source": [
    "#### Exercises: Level 2"
   ]
  },
  {
   "cell_type": "code",
   "execution_count": 1,
   "metadata": {},
   "outputs": [
    {
     "name": "stdout",
     "output_type": "stream",
     "text": [
      "The number of odds are, 50\n",
      "The number of evens are, 51\n"
     ]
    }
   ],
   "source": [
    "def evens_and_odds(number):\n",
    "    odd_count = 0\n",
    "    even_count = 0\n",
    "    for i in range(number +1):\n",
    "        if i % 2 == 0:\n",
    "            even_count+=1\n",
    "        else:\n",
    "            odd_count += 1\n",
    "    print(f'The number of odds are, {odd_count}')\n",
    "    print(f'The number of evens are, {even_count}')\n",
    "evens_and_odds(100)"
   ]
  },
  {
   "cell_type": "code",
   "execution_count": 2,
   "metadata": {},
   "outputs": [
    {
     "name": "stdout",
     "output_type": "stream",
     "text": [
      "3628800\n",
      "\n"
     ]
    }
   ],
   "source": [
    "def factorial(number):\n",
    "    factorial = 1\n",
    "    while number > 0:\n",
    "        factorial *= number\n",
    "        number -=1\n",
    "    return factorial\n",
    "print(factorial(10))\n",
    "print()"
   ]
  },
  {
   "cell_type": "code",
   "execution_count": 3,
   "metadata": {},
   "outputs": [
    {
     "name": "stdout",
     "output_type": "stream",
     "text": [
      "True\n",
      "False\n",
      "\n"
     ]
    }
   ],
   "source": [
    "def is_empty(x):\n",
    "    return 'False' if len(x) > 0 else 'True'\n",
    "print(is_empty([]))\n",
    "print(is_empty([6,7,5,3,9]))\n",
    "print()"
   ]
  },
  {
   "cell_type": "code",
   "execution_count": null,
   "metadata": {},
   "outputs": [],
   "source": [
    "import numpy as np \n",
    "import statistics as st\n",
    "def stat(x):\n",
    "    calculate_mean = np.mean(x)\n",
    "    calculate_median = np.median(x)\n",
    "    calculate_mode = st.mode(x)\n",
    "    calculate_range = max(x) - min(x)\n",
    "    calculate_variance = np.var(x)\n",
    "    calculate_std = np.std(x)\n",
    "    print(f'The mean of the list is, {calculate_mean:.2f}')\n",
    "    print(f'The median of the list is, {calculate_median}')\n",
    "    print(f'The mode of the list is, {calculate_mode}')\n",
    "    print(f'The range of the list is, {calculate_range}')\n",
    "    print(f'The variance of the list is, {calculate_variance:.2f}')\n",
    "    print(f'The standard deviation of the list is, {calculate_std:.2f}')\n",
    "    print()\n",
    "stat ([1,3,3,7,6,5,4,2,8,7,6,9,11,10])\n",
    "   "
   ]
  },
  {
   "cell_type": "markdown",
   "metadata": {},
   "source": [
    "#### Excersises: Level 3"
   ]
  },
  {
   "cell_type": "code",
   "execution_count": 6,
   "metadata": {},
   "outputs": [
    {
     "name": "stdout",
     "output_type": "stream",
     "text": [
      "Prime number\n",
      "\n"
     ]
    }
   ],
   "source": [
    "def is_prime(number):\n",
    "    if number > 1:\n",
    "        for i in range(2, number):\n",
    "            if number % i == 0:\n",
    "                return 'Not a prime number'\n",
    "    else:\n",
    "        return 'Not a prime number'\n",
    "    return 'Prime number'\n",
    "print(is_prime(3))\n",
    "print()"
   ]
  },
  {
   "cell_type": "code",
   "execution_count": 7,
   "metadata": {},
   "outputs": [
    {
     "name": "stdout",
     "output_type": "stream",
     "text": [
      "Not unique items\n",
      "Unique items\n",
      "\n"
     ]
    }
   ],
   "source": [
    "def unique_item(lists):\n",
    "    for list in lists:\n",
    "        if lists.count(list) != 1:\n",
    "            return 'Not unique items'\n",
    "    return 'Unique items'\n",
    "list = [2,1,4,7,4,8,9]\n",
    "print(unique_item(list))\n",
    "list = [8,4,6,2,3,7,1]\n",
    "print(unique_item(list))\n",
    "print()\n"
   ]
  },
  {
   "cell_type": "code",
   "execution_count": 8,
   "metadata": {},
   "outputs": [
    {
     "name": "stdout",
     "output_type": "stream",
     "text": [
      "Not thesame data type\n",
      "Same data type\n",
      "\n"
     ]
    }
   ],
   "source": [
    "def same_type(lists):\n",
    "    for i in range(1, len(lists)):\n",
    "        if isinstance(lists[0], type(lists[i])):\n",
    "            continue\n",
    "        else:\n",
    "            return 'Not thesame data type'\n",
    "    return 'Same data type'\n",
    "test_list = [3, 4, 5, 6, 6, 8, 'same']\n",
    "print(same_type(test_list))\n",
    "test_list = [3, 4, 4, 5, 6, 8, 9]\n",
    "print(same_type(test_list))\n",
    "print()       "
   ]
  }
 ],
 "metadata": {
  "kernelspec": {
   "display_name": "newkernel",
   "language": "python",
   "name": "newkernel"
  },
  "language_info": {
   "codemirror_mode": {
    "name": "ipython",
    "version": 3
   },
   "file_extension": ".py",
   "mimetype": "text/x-python",
   "name": "python",
   "nbconvert_exporter": "python",
   "pygments_lexer": "ipython3",
   "version": "3.12.0"
  }
 },
 "nbformat": 4,
 "nbformat_minor": 2
}
