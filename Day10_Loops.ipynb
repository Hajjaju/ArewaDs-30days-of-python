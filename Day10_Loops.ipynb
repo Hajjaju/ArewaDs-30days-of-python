{
 "cells": [
  {
   "cell_type": "markdown",
   "metadata": {},
   "source": [
    "## Assignment Day 10\n",
    "#### Exercises: Level 1"
   ]
  },
  {
   "cell_type": "code",
   "execution_count": 2,
   "metadata": {},
   "outputs": [
    {
     "name": "stdout",
     "output_type": "stream",
     "text": [
      "0\n",
      "1\n",
      "2\n",
      "3\n",
      "4\n",
      "5\n",
      "6\n",
      "7\n",
      "8\n",
      "9\n",
      "10\n",
      "0\n",
      "1\n",
      "2\n",
      "3\n",
      "4\n",
      "5\n",
      "6\n",
      "7\n",
      "8\n",
      "9\n",
      "10\n"
     ]
    }
   ],
   "source": [
    "for i in range (11):\n",
    "    print(i)\n",
    "    i = 0\n",
    "\n",
    "while i <= 10:\n",
    "    print(i)\n",
    "    i = i+1\n"
   ]
  },
  {
   "cell_type": "code",
   "execution_count": 4,
   "metadata": {},
   "outputs": [
    {
     "name": "stdout",
     "output_type": "stream",
     "text": [
      "10\n",
      "9\n",
      "8\n",
      "7\n",
      "6\n",
      "5\n",
      "4\n",
      "3\n",
      "2\n",
      "1\n",
      "0\n",
      "1\n",
      "0\n"
     ]
    }
   ],
   "source": [
    "for i in range(10, -1, -1):\n",
    "    print(i)\n",
    "    i=1\n",
    "\n",
    "while i >=0:\n",
    "    print(i)\n",
    "    i= i-1\n"
   ]
  },
  {
   "cell_type": "code",
   "execution_count": 6,
   "metadata": {},
   "outputs": [
    {
     "name": "stdout",
     "output_type": "stream",
     "text": [
      "#\n",
      "##\n",
      "###\n",
      "####\n",
      "#####\n",
      "######\n",
      "#######\n",
      "# # # # # # # # \n",
      "# # # # # # # # \n",
      "# # # # # # # # \n",
      "# # # # # # # # \n",
      "# # # # # # # # \n",
      "# # # # # # # # \n",
      "# # # # # # # # \n",
      "# # # # # # # # \n"
     ]
    }
   ],
   "source": [
    "for i in range(1, 8):\n",
    "    for j in range(1, i + 1):\n",
    "        print('#', end='')\n",
    "    print()\n",
    "\n",
    "for i in range (8):\n",
    "    for j in range (8):\n",
    "        print('#', end=' ')\n",
    "    print()"
   ]
  },
  {
   "cell_type": "code",
   "execution_count": 12,
   "metadata": {},
   "outputs": [
    {
     "name": "stdout",
     "output_type": "stream",
     "text": [
      "0 * 0=0\n",
      "1 * 1=1\n",
      "2 * 2=4\n",
      "3 * 3=9\n",
      "4 * 4=16\n",
      "5 * 5=25\n",
      "6 * 6=36\n",
      "7 * 7=49\n",
      "8 * 8=64\n",
      "9 * 9=81\n",
      "10 * 10=100\n"
     ]
    }
   ],
   "source": [
    "for i in range(11):\n",
    "    number = i * i\n",
    "    print(f'{i} * {i}={number}')\n"
   ]
  },
  {
   "cell_type": "code",
   "execution_count": 13,
   "metadata": {},
   "outputs": [
    {
     "name": "stdout",
     "output_type": "stream",
     "text": [
      "Python\n",
      "Numpy\n",
      "Pandas\n",
      "Django\n",
      "Flask\n"
     ]
    }
   ],
   "source": [
    "lists = ['Python', 'Numpy', 'Pandas', 'Django', 'Flask']\n",
    "for i in lists:\n",
    "    print(i)"
   ]
  },
  {
   "cell_type": "code",
   "execution_count": 14,
   "metadata": {},
   "outputs": [
    {
     "name": "stdout",
     "output_type": "stream",
     "text": [
      "0\n",
      "2\n",
      "4\n",
      "6\n",
      "8\n",
      "10\n",
      "12\n",
      "14\n",
      "16\n",
      "18\n",
      "20\n",
      "22\n",
      "24\n",
      "26\n",
      "28\n",
      "30\n",
      "32\n",
      "34\n",
      "36\n",
      "38\n",
      "40\n",
      "42\n",
      "44\n",
      "46\n",
      "48\n",
      "50\n",
      "52\n",
      "54\n",
      "56\n",
      "58\n",
      "60\n",
      "62\n",
      "64\n",
      "66\n",
      "68\n",
      "70\n",
      "72\n",
      "74\n",
      "76\n",
      "78\n",
      "80\n",
      "82\n",
      "84\n",
      "86\n",
      "88\n",
      "90\n",
      "92\n",
      "94\n",
      "96\n",
      "98\n",
      "100\n"
     ]
    }
   ],
   "source": [
    "for i in range(101):\n",
    "    if i % 2 ==0:\n",
    "        print(i)\n"
   ]
  },
  {
   "cell_type": "code",
   "execution_count": 16,
   "metadata": {},
   "outputs": [
    {
     "name": "stdout",
     "output_type": "stream",
     "text": [
      "0\n",
      "2\n",
      "4\n",
      "6\n",
      "8\n",
      "10\n",
      "12\n",
      "14\n",
      "16\n",
      "18\n",
      "20\n",
      "22\n",
      "24\n",
      "26\n",
      "28\n",
      "30\n",
      "32\n",
      "34\n",
      "36\n",
      "38\n",
      "40\n",
      "42\n",
      "44\n",
      "46\n",
      "48\n",
      "50\n",
      "52\n",
      "54\n",
      "56\n",
      "58\n",
      "60\n",
      "62\n",
      "64\n",
      "66\n",
      "68\n",
      "70\n",
      "72\n",
      "74\n",
      "76\n",
      "78\n",
      "80\n",
      "82\n",
      "84\n",
      "86\n",
      "88\n",
      "90\n",
      "92\n",
      "94\n",
      "96\n",
      "98\n",
      "100\n"
     ]
    }
   ],
   "source": [
    "for i in range (101):\n",
    "    if i % 2 == 0:\n",
    "        print(i)"
   ]
  },
  {
   "cell_type": "code",
   "execution_count": 15,
   "metadata": {},
   "outputs": [
    {
     "name": "stdout",
     "output_type": "stream",
     "text": [
      "1\n",
      "3\n",
      "5\n",
      "7\n",
      "9\n",
      "11\n",
      "13\n",
      "15\n",
      "17\n",
      "19\n",
      "21\n",
      "23\n",
      "25\n",
      "27\n",
      "29\n",
      "31\n",
      "33\n",
      "35\n",
      "37\n",
      "39\n",
      "41\n",
      "43\n",
      "45\n",
      "47\n",
      "49\n",
      "51\n",
      "53\n",
      "55\n",
      "57\n",
      "59\n",
      "61\n",
      "63\n",
      "65\n",
      "67\n",
      "69\n",
      "71\n",
      "73\n",
      "75\n",
      "77\n",
      "79\n",
      "81\n",
      "83\n",
      "85\n",
      "87\n",
      "89\n",
      "91\n",
      "93\n",
      "95\n",
      "97\n",
      "99\n"
     ]
    }
   ],
   "source": [
    "for i in range (101):\n",
    "    if i % 2 != 0:\n",
    "        print(i)"
   ]
  },
  {
   "cell_type": "markdown",
   "metadata": {},
   "source": [
    "#### Excercises Level 2"
   ]
  },
  {
   "cell_type": "code",
   "execution_count": 17,
   "metadata": {},
   "outputs": [
    {
     "name": "stdout",
     "output_type": "stream",
     "text": [
      "Sum of all numbers from 0 to 100 is: 0\n",
      "Sum of all numbers from 0 to 100 is: 1\n",
      "Sum of all numbers from 0 to 100 is: 3\n",
      "Sum of all numbers from 0 to 100 is: 6\n",
      "Sum of all numbers from 0 to 100 is: 10\n",
      "Sum of all numbers from 0 to 100 is: 15\n",
      "Sum of all numbers from 0 to 100 is: 21\n",
      "Sum of all numbers from 0 to 100 is: 28\n",
      "Sum of all numbers from 0 to 100 is: 36\n",
      "Sum of all numbers from 0 to 100 is: 45\n",
      "Sum of all numbers from 0 to 100 is: 55\n",
      "Sum of all numbers from 0 to 100 is: 66\n",
      "Sum of all numbers from 0 to 100 is: 78\n",
      "Sum of all numbers from 0 to 100 is: 91\n",
      "Sum of all numbers from 0 to 100 is: 105\n",
      "Sum of all numbers from 0 to 100 is: 120\n",
      "Sum of all numbers from 0 to 100 is: 136\n",
      "Sum of all numbers from 0 to 100 is: 153\n",
      "Sum of all numbers from 0 to 100 is: 171\n",
      "Sum of all numbers from 0 to 100 is: 190\n",
      "Sum of all numbers from 0 to 100 is: 210\n",
      "Sum of all numbers from 0 to 100 is: 231\n",
      "Sum of all numbers from 0 to 100 is: 253\n",
      "Sum of all numbers from 0 to 100 is: 276\n",
      "Sum of all numbers from 0 to 100 is: 300\n",
      "Sum of all numbers from 0 to 100 is: 325\n",
      "Sum of all numbers from 0 to 100 is: 351\n",
      "Sum of all numbers from 0 to 100 is: 378\n",
      "Sum of all numbers from 0 to 100 is: 406\n",
      "Sum of all numbers from 0 to 100 is: 435\n",
      "Sum of all numbers from 0 to 100 is: 465\n",
      "Sum of all numbers from 0 to 100 is: 496\n",
      "Sum of all numbers from 0 to 100 is: 528\n",
      "Sum of all numbers from 0 to 100 is: 561\n",
      "Sum of all numbers from 0 to 100 is: 595\n",
      "Sum of all numbers from 0 to 100 is: 630\n",
      "Sum of all numbers from 0 to 100 is: 666\n",
      "Sum of all numbers from 0 to 100 is: 703\n",
      "Sum of all numbers from 0 to 100 is: 741\n",
      "Sum of all numbers from 0 to 100 is: 780\n",
      "Sum of all numbers from 0 to 100 is: 820\n",
      "Sum of all numbers from 0 to 100 is: 861\n",
      "Sum of all numbers from 0 to 100 is: 903\n",
      "Sum of all numbers from 0 to 100 is: 946\n",
      "Sum of all numbers from 0 to 100 is: 990\n",
      "Sum of all numbers from 0 to 100 is: 1035\n",
      "Sum of all numbers from 0 to 100 is: 1081\n",
      "Sum of all numbers from 0 to 100 is: 1128\n",
      "Sum of all numbers from 0 to 100 is: 1176\n",
      "Sum of all numbers from 0 to 100 is: 1225\n",
      "Sum of all numbers from 0 to 100 is: 1275\n",
      "Sum of all numbers from 0 to 100 is: 1326\n",
      "Sum of all numbers from 0 to 100 is: 1378\n",
      "Sum of all numbers from 0 to 100 is: 1431\n",
      "Sum of all numbers from 0 to 100 is: 1485\n",
      "Sum of all numbers from 0 to 100 is: 1540\n",
      "Sum of all numbers from 0 to 100 is: 1596\n",
      "Sum of all numbers from 0 to 100 is: 1653\n",
      "Sum of all numbers from 0 to 100 is: 1711\n",
      "Sum of all numbers from 0 to 100 is: 1770\n",
      "Sum of all numbers from 0 to 100 is: 1830\n",
      "Sum of all numbers from 0 to 100 is: 1891\n",
      "Sum of all numbers from 0 to 100 is: 1953\n",
      "Sum of all numbers from 0 to 100 is: 2016\n",
      "Sum of all numbers from 0 to 100 is: 2080\n",
      "Sum of all numbers from 0 to 100 is: 2145\n",
      "Sum of all numbers from 0 to 100 is: 2211\n",
      "Sum of all numbers from 0 to 100 is: 2278\n",
      "Sum of all numbers from 0 to 100 is: 2346\n",
      "Sum of all numbers from 0 to 100 is: 2415\n",
      "Sum of all numbers from 0 to 100 is: 2485\n",
      "Sum of all numbers from 0 to 100 is: 2556\n",
      "Sum of all numbers from 0 to 100 is: 2628\n",
      "Sum of all numbers from 0 to 100 is: 2701\n",
      "Sum of all numbers from 0 to 100 is: 2775\n",
      "Sum of all numbers from 0 to 100 is: 2850\n",
      "Sum of all numbers from 0 to 100 is: 2926\n",
      "Sum of all numbers from 0 to 100 is: 3003\n",
      "Sum of all numbers from 0 to 100 is: 3081\n",
      "Sum of all numbers from 0 to 100 is: 3160\n",
      "Sum of all numbers from 0 to 100 is: 3240\n",
      "Sum of all numbers from 0 to 100 is: 3321\n",
      "Sum of all numbers from 0 to 100 is: 3403\n",
      "Sum of all numbers from 0 to 100 is: 3486\n",
      "Sum of all numbers from 0 to 100 is: 3570\n",
      "Sum of all numbers from 0 to 100 is: 3655\n",
      "Sum of all numbers from 0 to 100 is: 3741\n",
      "Sum of all numbers from 0 to 100 is: 3828\n",
      "Sum of all numbers from 0 to 100 is: 3916\n",
      "Sum of all numbers from 0 to 100 is: 4005\n",
      "Sum of all numbers from 0 to 100 is: 4095\n",
      "Sum of all numbers from 0 to 100 is: 4186\n",
      "Sum of all numbers from 0 to 100 is: 4278\n",
      "Sum of all numbers from 0 to 100 is: 4371\n",
      "Sum of all numbers from 0 to 100 is: 4465\n",
      "Sum of all numbers from 0 to 100 is: 4560\n",
      "Sum of all numbers from 0 to 100 is: 4656\n",
      "Sum of all numbers from 0 to 100 is: 4753\n",
      "Sum of all numbers from 0 to 100 is: 4851\n",
      "Sum of all numbers from 0 to 100 is: 4950\n",
      "Sum of all numbers from 0 to 100 is: 5050\n"
     ]
    }
   ],
   "source": [
    "sum_total = 0 \n",
    "for i in range(101):\n",
    "    sum_total+= i\n",
    "    print('Sum of all numbers from 0 to 100 is:', sum_total)"
   ]
  },
  {
   "cell_type": "code",
   "execution_count": 18,
   "metadata": {},
   "outputs": [
    {
     "name": "stdout",
     "output_type": "stream",
     "text": [
      "sum of even numbers: 2550\n",
      "sum of odd numbers: 2500\n"
     ]
    }
   ],
   "source": [
    "sum_of_even = 0\n",
    "sum_of_odd = 0\n",
    "for i in range(101):\n",
    "    if i % 2 ==0:\n",
    "        sum_of_even += i\n",
    "    else:\n",
    "        sum_of_odd += i\n",
    "print('sum of even numbers:', sum_of_even)\n",
    "print('sum of odd numbers:', sum_of_odd)"
   ]
  },
  {
   "cell_type": "markdown",
   "metadata": {},
   "source": [
    "#### Exercises: Level 3 "
   ]
  },
  {
   "cell_type": "code",
   "execution_count": null,
   "metadata": {},
   "outputs": [],
   "source": [
    "countries = [ 'Afghanistan', 'Albania', 'Algeria', 'Andorra', 'Angola', 'Antigua and Barbuda', 'Argentina', 'Armenia', 'Australia', 'Austria', 'Azerbaijan', 'Bahamas', 'Bahrain', 'Bangladesh', 'Barbados', 'Belarus', 'Belgium', 'Belize', 'Benin', 'Bhutan', 'Bolivia', 'Bosnia and Herzegovina', 'Botswana', 'Brazil', 'Brunei', 'Bulgaria', 'Burkina Faso', 'Burundi', 'Cambodia', 'Cameroon', 'Canada', 'Cape Verde', 'Central African Republic', 'Chad', 'Chile', 'China', 'Colombi', 'Comoros', 'Congo (Brazzaville)', 'Congo', 'Costa Rica', \"Cote d'Ivoire\", 'Croatia', 'Cuba', 'Cyprus', 'Czech Republic', 'Denmark', 'Djibouti', 'Dominica', 'Dominican Republic', 'East Timor (Timor Timur)', 'Ecuador', 'Egypt', 'El Salvador', 'Equatorial Guinea', 'Eritrea', 'Estonia',  'Ethiopia', 'Fiji', 'Finland', 'France', 'Gabon', 'Gambia, The', 'Georgia', 'Germany', 'Ghana', 'Greece',  'Grenada', 'Guatemala', 'Guinea', 'Guinea-Bissau',  'Guyana', 'Haiti', 'Honduras', 'Hungary', 'Iceland', 'India', 'Indonesia',  'Iran', 'Iraq', 'Ireland', 'Israel', 'Italy', 'Jamaica', 'Japan', 'Jordan', 'Kazakhstan', 'Kenya', 'Kiribati', 'Korea, North', 'Korea, South', 'Kuwait', 'Kyrgyzstan', 'Laos', 'Latvia','Lebanon', 'Lesotho','Liberia', 'Libya', 'Liechtenstein', 'Lithuania', 'Luxembourg', 'Macedonia',  'Madagascar', 'Malawi', 'Malaysia', 'Maldives', 'Mali', 'Malta', 'Marshall Islands', 'Mauritania',  'Mauritius', 'Mexico', 'Micronesia', 'Moldova', 'Monaco', 'Mongolia', 'Morocco', 'Mozambique', 'Myanmar', 'Namibia', 'Nauru', 'Nepal', 'Netherlands', 'New Zealand', 'Nicaragua', 'Niger', 'Nigeria', 'Norway', 'Oman', 'Pakistan', 'Palau', 'Panama', 'Papua New Guinea', 'Paraguay', 'Peru', 'Philippines', 'Poland', 'Portugal', 'Qatar',  'Romania', 'Russia', 'Rwanda', 'Saint Kitts and Nevis', 'Saint Lucia', 'Saint Vincent', 'Samoa', 'San Marino', 'Sao Tome and Principe','Saudi Arabia', 'Senegal', 'Serbia and Montenegro', 'Seychelles', 'Sierra Leone', 'Singapore', 'Slovakia', 'Slovenia','Solomon Islands', 'Somalia', 'South Africa', 'Spain', 'Sri Lanka', 'Sudan', 'Suriname', 'Swaziland', 'Sweden', 'Switzerland', 'Syria', 'Taiwan', 'Tajikistan', 'Tanzania', 'Thailand', 'Togo', 'Tonga', 'Trinidad and Tobago', 'Tunisia', 'Turkey', 'Turkmenistan', 'Tuvalu', 'Uganda', 'Ukraine', 'United Arab Emirates', 'United Kingdom',  'United States', 'Uruguay', 'Uzbekistan', 'Vanuatu', 'Vatican City', 'Venezuela', 'Vietnam', 'Yemen', 'Zambia', 'Zimbabwe',]\n",
    "countries_with_land = []\n",
    "for country in countries:\n",
    "    if 'land' in country.lower():\n",
    "        countries_with_land.append(country)\n",
    "print('countries containing 'land':')\n",
    "for country in countries_with_land:\n",
    "    print(country)"
   ]
  },
  {
   "cell_type": "code",
   "execution_count": 19,
   "metadata": {},
   "outputs": [
    {
     "name": "stdout",
     "output_type": "stream",
     "text": [
      "fruits in reversed order: ['Lemon', 'Mango', 'Orange', 'Banana']\n"
     ]
    }
   ],
   "source": [
    "fruits = ['Banana', 'Orange', 'Mango', 'Lemon']\n",
    "reversed_order= []\n",
    "for fruit in reversed(fruits):\n",
    "    reversed_order.append(fruit)\n",
    "print('fruits in reversed order:', reversed_order)"
   ]
  }
 ],
 "metadata": {
  "kernelspec": {
   "display_name": "newkernel",
   "language": "python",
   "name": "newkernel"
  },
  "language_info": {
   "codemirror_mode": {
    "name": "ipython",
    "version": 3
   },
   "file_extension": ".py",
   "mimetype": "text/x-python",
   "name": "python",
   "nbconvert_exporter": "python",
   "pygments_lexer": "ipython3",
   "version": "3.12.0"
  }
 },
 "nbformat": 4,
 "nbformat_minor": 2
}
