{
 "cells": [
  {
   "cell_type": "markdown",
   "metadata": {},
   "source": [
    "## Day 5 Assignment"
   ]
  },
  {
   "cell_type": "markdown",
   "metadata": {},
   "source": [
    "### exercise 1"
   ]
  },
  {
   "cell_type": "code",
   "execution_count": 9,
   "metadata": {},
   "outputs": [
    {
     "name": "stdout",
     "output_type": "stream",
     "text": [
      "['pen', 'chalk', 'book', 'bag', 'duster', 'ruler', 'cleaner']\n",
      "7\n",
      "pen\n",
      "bag\n",
      "cleaner\n",
      "['Hauwa', 26, 53.5, 'singleBauchi']\n",
      "['Facebook', 'Google', 'Microsoft', 'Apple', 'IBM', 'Oracle', 'Amazon']\n",
      "Number of companies: 7\n",
      "Facebook\n",
      "Microsoft\n",
      "Amazon\n",
      "['WhatsApp', 'Google', 'Microsoft', 'Apple', 'IBM', 'Oracle', 'Amazon']\n",
      "['WhatsApp', 'Google', 'Twitter', 'Microsoft', 'Apple', 'IBM', 'Oracle', 'Amazon']\n",
      "['WhatsApp', 'Google', 'Twitter', 'Microsoft', 'Instagram', 'Apple', 'IBM', 'Oracle', 'Amazon']\n",
      "WhatsApp# Google# Twitter# Microsoft# Instagram# Apple# IBM# Oracle# Amazon\n",
      "['Amazon', 'Apple', 'Google', 'IBM', 'Instagram', 'Microsoft', 'Oracle', 'Twitter', 'WhatsApp']\n",
      "['WhatsApp', 'Twitter', 'Oracle', 'Microsoft', 'Instagram', 'IBM', 'Google', 'Apple', 'Amazon']\n",
      "['WhatsApp', 'Twitter', 'Oracle']\n",
      "['Google', 'Apple', 'Amazon']\n",
      "['Twitter', 'Oracle', 'Microsoft', 'Instagram', 'IBM', 'Google', 'Apple', 'Amazon']\n",
      "['Twitter', 'Oracle', 'Microsoft', 'IBM', 'Google', 'Apple', 'Amazon']\n",
      "['Twitter', 'Oracle', 'Microsoft', 'IBM', 'Google', 'Apple']\n",
      "[]\n"
     ]
    },
    {
     "ename": "NameError",
     "evalue": "name 'IT_companies' is not defined",
     "output_type": "error",
     "traceback": [
      "\u001b[1;31m---------------------------------------------------------------------------\u001b[0m",
      "\u001b[1;31mNameError\u001b[0m                                 Traceback (most recent call last)",
      "\u001b[1;32mc:\\Users\\DELL\\Desktop\\ADS 30 Days of Pthon\\ArewaDs-30days-of-python\\day 5\\Lists.ipynb Cell 3\u001b[0m line \u001b[0;36m4\n\u001b[0;32m     <a href='vscode-notebook-cell:/c%3A/Users/DELL/Desktop/ADS%2030%20Days%20of%20Pthon/ArewaDs-30days-of-python/day%205/Lists.ipynb#W2sZmlsZQ%3D%3D?line=45'>46</a>\u001b[0m \u001b[39mprint\u001b[39m(IT_companies)\n\u001b[0;32m     <a href='vscode-notebook-cell:/c%3A/Users/DELL/Desktop/ADS%2030%20Days%20of%20Pthon/ArewaDs-30days-of-python/day%205/Lists.ipynb#W2sZmlsZQ%3D%3D?line=46'>47</a>\u001b[0m \u001b[39mdel\u001b[39;00m IT_companies\n\u001b[1;32m---> <a href='vscode-notebook-cell:/c%3A/Users/DELL/Desktop/ADS%2030%20Days%20of%20Pthon/ArewaDs-30days-of-python/day%205/Lists.ipynb#W2sZmlsZQ%3D%3D?line=47'>48</a>\u001b[0m \u001b[39mprint\u001b[39m(IT_companies)\n",
      "\u001b[1;31mNameError\u001b[0m: name 'IT_companies' is not defined"
     ]
    }
   ],
   "source": [
    "empty_list = list()\n",
    "class_room = ['pen', 'chalk', 'book', 'bag', 'duster', 'ruler', 'cleaner']\n",
    "print(class_room)\n",
    "print(len(class_room))\n",
    "first_item = class_room[0]\n",
    "middle_item = class_room[3]\n",
    "last_item = class_room[6]\n",
    "print(first_item)\n",
    "print(middle_item)\n",
    "print(last_item)\n",
    "mixed_data_types = ['Hauwa', 26, 53.5, 'single' 'Bauchi']\n",
    "IT_companies = ['Facebook', 'Google', 'Microsoft', 'Apple', 'IBM', 'Oracle', 'Amazon']\n",
    "print(mixed_data_types)\n",
    "print(IT_companies)\n",
    "print('Number of companies:', len(IT_companies))\n",
    "first_company = IT_companies[-7]\n",
    "middle_company = IT_companies[-5]\n",
    "last_company = IT_companies[-1]\n",
    "print(first_company)\n",
    "print(middle_company)\n",
    "print(last_company)\n",
    "IT_companies[0] = 'WhatsApp'\n",
    "print(IT_companies)\n",
    "IT_companies.insert(2, 'Twitter')\n",
    "print(IT_companies)\n",
    "IT_companies.insert(4, 'Instagram')\n",
    "print(IT_companies)\n",
    "join_output = '# '.join(IT_companies)\n",
    "print(join_output)\n",
    "IT_companies.sort()\n",
    "print(IT_companies)\n",
    "IT_companies.reverse()\n",
    "print(IT_companies)\n",
    "All_companies = IT_companies[0:8]\n",
    "first_three = IT_companies[0:3]\n",
    "last_three = IT_companies[6:]\n",
    "print(first_three)\n",
    "print(last_three)\n",
    "IT_companies.remove('WhatsApp')\n",
    "print(IT_companies)\n",
    "IT_companies.remove('Instagram')\n",
    "print(IT_companies)\n",
    "IT_companies.remove('Amazon')\n",
    "print(IT_companies)\n",
    "IT_companies.clear()\n",
    "print(IT_companies)\n",
    "del IT_companies\n",
    "print(IT_companies)"
   ]
  },
  {
   "cell_type": "code",
   "execution_count": 8,
   "metadata": {},
   "outputs": [
    {
     "name": "stdout",
     "output_type": "stream",
     "text": [
      "['HTML', 'CSS', 'JS', 'React', 'Redux', 'Node', 'Express', 'MongoDB']\n"
     ]
    }
   ],
   "source": [
    "front_end = ['HTML', 'CSS', 'JS', 'React', 'Redux']\n",
    "back_end = ['Node', 'Express', 'MongoDB']\n",
    "front_and_back_end =front_end+back_end\n",
    "print(front_and_back_end)"
   ]
  },
  {
   "cell_type": "markdown",
   "metadata": {},
   "source": [
    "### Exercise: level 2"
   ]
  },
  {
   "cell_type": "code",
   "execution_count": 7,
   "metadata": {},
   "outputs": [
    {
     "name": "stdout",
     "output_type": "stream",
     "text": [
      "[19, 19, 20, 22, 24, 24, 24, 25, 25, 26]\n",
      "[19, 19, 20, 22, 24, 24, 24, 25, 25, 26, '19', '26']\n"
     ]
    }
   ],
   "source": [
    "ages = [19, 22, 19, 24, 20, 25, 26, 24, 25, 24]\n",
    "ages.sort()\n",
    "print(ages)\n",
    "min_age = 19\n",
    "max_age = 26\n",
    "ages.append('19')\n",
    "ages.append('26')\n",
    "print(ages)\n",
    "\n"
   ]
  }
 ],
 "metadata": {
  "kernelspec": {
   "display_name": "Python 3",
   "language": "python",
   "name": "python3"
  },
  "language_info": {
   "codemirror_mode": {
    "name": "ipython",
    "version": 3
   },
   "file_extension": ".py",
   "mimetype": "text/x-python",
   "name": "python",
   "nbconvert_exporter": "python",
   "pygments_lexer": "ipython3",
   "version": "3.12.0"
  }
 },
 "nbformat": 4,
 "nbformat_minor": 2
}
