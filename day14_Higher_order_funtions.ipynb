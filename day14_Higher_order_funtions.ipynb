{
 "cells": [
  {
   "cell_type": "markdown",
   "metadata": {},
   "source": [
    "## Assignment Day 14\n",
    "#### Excercises:"
   ]
  },
  {
   "cell_type": "markdown",
   "metadata": {},
   "source": [
    "#### 1. Explain the difference between map, filter, and reduce.\n",
    "##### map, filter and reduce are all built-in functions that takes a function and iteratable as paramers. However, map and filter returns another iterablem while reduce return a value\n"
   ]
  },
  {
   "cell_type": "code",
   "execution_count": null,
   "metadata": {},
   "outputs": [],
   "source": [
    "# 2. Explain the difference between higher order function, closure and decorator\n",
    "\n",
    "# 3. Define a call function before map, filter or reduce, see examples.\n"
   ]
  },
  {
   "cell_type": "code",
   "execution_count": null,
   "metadata": {},
   "outputs": [],
   "source": [
    "# Use for loop to print each country in the countries list.\n",
    "countries = [{ \"name\": \"Afghanistan\", \"capital\": \"Kabul\", \"languages\": [ \"Pashto\", \"Uzbek\", \"Turkmen\" ], \"population\": 27657145, \"flag\": \"https://restcountries.eu/data/afg.svg\", \"currency\": \"Afghan afghani\" }, { \"name\": \"Åland Islands\", \"capital\": \"Mariehamn\", \"languages\": [ \"Swedish\" ], \"population\": 28875, \"flag\": \"https://restcountries.eu/data/ala.svg\", \"currency\": \"Euro\" }, { \"name\": \"Albania\", \"capital\": \"Tirana\", \"languages\": [ \"Albanian\" ], \"population\": 2886026, \"flag\": \"https://restcountries.eu/data/alb.svg\", \"currency\": \"Albanian lek\" }, { \"name\": \"Algeria\", \"capital\": \"Algiers\", \"languages\": [ \"Arabic\" ], \"population\": 40400000, \"flag\": \"https://restcountries.eu/data/dza.svg\", \"currency\": \"Algerian dinar\" }, { \"name\": \"American Samoa\", \"capital\": \"Pago Pago\", \"languages\": [ \"English\", \"Samoan\" ], \"population\": 57100, \"flag\": \"https://restcountries.eu/data/asm.svg\", \"currency\": \"United State Dollar\" }, { \"name\": \"Andorra\", \"capital\": \"Andorra la Vella\", \"languages\": [ \"Catalan\" ], \"population\": 78014, \"flag\": \"https://restcountries.eu/data/and.svg\", \"currency\": \"Euro\" }, { \"name\": \"Angola\", \"capital\": \"Luanda\", \"languages\": [ \"Portuguese\" ], \"population\": 25868000, \"flag\": \"https://restcountries.eu/data/ago.svg\", \"currency\": \"Angolan kwanza\" }]\n",
    "\n",
    "# Use for to print each name in the names list.\n",
    "for name in countries:\n",
    "    print(\"Countries names:\", countries['name'])\n",
    "\n",
    "# Use for to print each number in the numbers list.\n",
    "\n",
    "# Use map to create a new list by changing each country to uppercase in the countries list\n",
    "upper = map(lambda name: name.upper(), countries['name'])\n",
    "print(upper)\n",
    "\n",
    "# Use map to create a new list by changing each number to its square in the numbers list\n",
    "# Use map to change each name to uppercase in the names list"
   ]
  },
  {
   "cell_type": "code",
   "execution_count": null,
   "metadata": {},
   "outputs": [],
   "source": [
    "# Use filter to filter out countries containing 'land'.\n",
    "contain_lands = filter(lambda name: 'land' in name, countries['name'])\n",
    "print(contain_lands)\n",
    "\n",
    "# Use filter to filter out countries having exactly six characters.\n",
    "contain_six = filter(lambda name: len(name) == 6, countries['name'])\n",
    "print(contain_six)\n",
    "\n",
    "# Use filter to filter out countries containing six letters and more in the country list.\n",
    "contain_six_more = filter(lambda name: len(name) >= 6, countries['name'])\n",
    "print(contain_six_more)\n",
    "\n",
    "# Use filter to filter out countries starting with an 'E'\n",
    "start_with_e = filter(lambda name: name[0] == 'E', countries['name'])\n",
    "print(start_with_e)"
   ]
  },
  {
   "cell_type": "code",
   "execution_count": null,
   "metadata": {},
   "outputs": [],
   "source": [
    "\n",
    "# Chain two or more list iterators (eg. arr.map(callback).filter(callback).reduce(callback))\n",
    "# Declare a function called get_string_lists which takes a list as a parameter and then returns a list containing only string items.\n",
    "from typing import List\n",
    "\n",
    "def get_string_lists(data: List) -> List:\n",
    "    return list(filter(lambda item: isinstance(item, str), data))\n",
    "\n",
    "# Use reduce to sum all the numbers in the numbers list.\n",
    "from functools import reduce\n",
    "\n",
    "numbers = [1, 2, 3, 4, 5]\n",
    "\n",
    "sum_result = reduce(lambda x, y: x + y, numbers)\n",
    "print(\"Sum of numbers:\", sum_result)\n",
    "\n",
    "# Use reduce to concatenate all the countries and to produce this sentence: Estonia, Finland, Sweden, Denmark, Norway, and Iceland are north European countries\n",
    "from functools import reduce\n",
    "\n",
    "countries = [\"Estonia\", \"Finland\", \"Sweden\", \"Denmark\", \"Norway\", \"Iceland\"]\n",
    "\n",
    "sentence = reduce(lambda x, y: f\"{x}, {y}\", countries)\n",
    "print(sentence + \" are north European countries.\")\n",
    "\n",
    "# Declare a function called categorize_countries that returns a list of countries with some common pattern (you can find the countries list in this repository as countries.js(eg 'land', 'ia', 'island', 'stan')).\n",
    "def categorize_countries(countries: List, pattern: str) -> List:\n",
    "    return list(filter(lambda country: pattern.lower() in country.lower(), countries))\n",
    "\n",
    "# Create a function returning a dictionary, where keys stand for starting letters of countries and values are the number of country names starting with that letter.\n",
    "def starting_letter_count(countries: List) -> dict:\n",
    "    return {country[0]: sum(1 for c in countries if c.startswith(country[0])) for country in countries}\n",
    "\n",
    "# Declare a get_first_ten_countries function - it returns a list of first ten countries from the countries.js list in the data folder.\n",
    "def get_first_ten_countries(countries: List) -> List:\n",
    "    return countries[:10]\n",
    "\n",
    "# Declare a get_last_ten_countries function that returns the last ten countries in the countries list.\n",
    "def get_last_ten_countries(countries: List) -> List:\n",
    "    return countries[-10:]\n",
    "\n",
    "# Use the countries_data.py (https://github.com/Asabeneh/30-Days-Of-Python/blob/master/data/countries-data.py) file and follow the tasks below:\n",
    "# Sort countries by name, by capital, by population\n",
    "sorted_by_name = sorted(countries, key=lambda x: x[\"name\"])\n",
    "sorted_by_capital = sorted(countries, key=lambda x: x[\"capital\"])\n",
    "sorted_by_population = sorted(countries, key=lambda x: x[\"population\"])\n",
    "\n",
    "print(\"Sorted by Name:\")\n",
    "print(sorted_by_name)\n",
    "\n",
    "print(\"\\nSorted by Capital:\")\n",
    "print(sorted_by_capital)\n",
    "\n",
    "print(\"\\nSorted by Population:\")\n",
    "print(sorted_by_population)\n",
    "\n",
    "# Sort out the ten most spoken languages by location.\n",
    "all_languages = [language for country in countries for language in country[\"languages\"]]\n",
    "language_count = {language: all_languages.count(language) for language in set(all_languages)}\n",
    "\n",
    "sorted_languages = sorted(language_count.items(), key=lambda x: x[1], reverse=True)[:10]\n",
    "\n",
    "print(\"Ten Most Spoken Languages:\")\n",
    "print(sorted_languages)\n",
    "\n",
    "# Sort out the ten most populated countries.\n",
    "sorted_by_population = sorted(countries, key=lambda x: x[\"population\"], reverse=True)[:10]\n",
    "\n",
    "print(\"Ten Most Populated Countries:\")\n",
    "print(sorted_by_population)"
   ]
  }
 ],
 "metadata": {
  "kernelspec": {
   "display_name": "newkernel",
   "language": "python",
   "name": "newkernel"
  },
  "language_info": {
   "codemirror_mode": {
    "name": "ipython",
    "version": 3
   },
   "file_extension": ".py",
   "mimetype": "text/x-python",
   "name": "python",
   "nbconvert_exporter": "python",
   "pygments_lexer": "ipython3",
   "version": "3.12.0"
  }
 },
 "nbformat": 4,
 "nbformat_minor": 2
}
