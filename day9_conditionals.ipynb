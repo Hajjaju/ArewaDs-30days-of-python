{
 "cells": [
  {
   "cell_type": "markdown",
   "metadata": {},
   "source": [
    "## Day 9 Assignment\n",
    "\n",
    "#### Exercises: Day 9"
   ]
  },
  {
   "cell_type": "code",
   "execution_count": 4,
   "metadata": {},
   "outputs": [
    {
     "name": "stdout",
     "output_type": "stream",
     "text": [
      "you are old enough to drive\n",
      "wait for the missing amount of years\n"
     ]
    }
   ],
   "source": [
    "your_age = 30\n",
    "if your_age >= 18:\n",
    "    print('you are old enough to drive')\n",
    "else:\n",
    "    print('wait for the missing amount of years')\n",
    "\n",
    "    \n",
    "age= 15\n",
    "if age >= 18:\n",
    "    print('you are old enough to drive')\n",
    "else:\n",
    "    print('wait for the missing amount of years')\n"
   ]
  },
  {
   "cell_type": "code",
   "execution_count": 2,
   "metadata": {},
   "outputs": [
    {
     "name": "stdout",
     "output_type": "stream",
     "text": [
      "you are 5 years younger than me.\n"
     ]
    }
   ],
   "source": [
    "my_age = 30\n",
    "your_age = 25\n",
    "if (my_age > your_age):\n",
    "    print('you are {} years younger than me.'.format(my_age-your_age))\n",
    "else:\n",
    "    print('you are {} years older than me.'.format(your_age-my_age))"
   ]
  },
  {
   "cell_type": "code",
   "execution_count": 5,
   "metadata": {},
   "outputs": [
    {
     "name": "stdout",
     "output_type": "stream",
     "text": [
      "A is greater than B\n"
     ]
    }
   ],
   "source": [
    "a = 4\n",
    "b = 3\n",
    "if a > b:\n",
    "    print('A is greater than B')\n",
    "elif a < b:\n",
    "    print('A is smaller than B')\n",
    "else:\n",
    "    print('A is equal to B')\n",
    "\n"
   ]
  },
  {
   "cell_type": "code",
   "execution_count": 7,
   "metadata": {},
   "outputs": [
    {
     "name": "stdout",
     "output_type": "stream",
     "text": [
      "the season is summer\n"
     ]
    }
   ],
   "source": [
    "month = input(\"april\")\n",
    "if (month=='september') or (month== 'octorber') or (month== 'november'):\n",
    "    print('the season is autum')\n",
    "elif (month== 'december') or (month== 'january') or (month== 'february'):\n",
    "    print('the season is winter')\n",
    "elif (month== 'march') or (month== 'april') or (month== 'may'):\n",
    "    print('the season is spring')\n",
    "else:\n",
    "    print('the season is summer')"
   ]
  },
  {
   "cell_type": "markdown",
   "metadata": {},
   "source": [
    "#### Excercises: Level 2"
   ]
  },
  {
   "cell_type": "code",
   "execution_count": 7,
   "metadata": {},
   "outputs": [
    {
     "name": "stdout",
     "output_type": "stream",
     "text": [
      "A\n"
     ]
    }
   ],
   "source": [
    "score = 92\n",
    "if score >= 80:\n",
    "    print ('A')\n",
    "elif 79-70:\n",
    "    print('B')\n",
    "elif 69-60:\n",
    "    print('C')\n",
    "elif 59-50:\n",
    "    print('D')\n",
    "else:\n",
    "    print('F')\n",
    "\n"
   ]
  },
  {
   "cell_type": "code",
   "execution_count": 4,
   "metadata": {},
   "outputs": [
    {
     "name": "stdout",
     "output_type": "stream",
     "text": [
      "['banana', 'orange', 'mango', 'lemon', 'apple']\n"
     ]
    }
   ],
   "source": [
    "fruits = ['banana', 'orange', 'mango', 'lemon']\n",
    "new_fruit = 'apple'\n",
    "if (new_fruit in fruits):\n",
    "    print('fruit already exist in the list')\n",
    "else:\n",
    "    fruits.append(new_fruit)\n",
    "    print(fruits)\n"
   ]
  },
  {
   "cell_type": "code",
   "execution_count": 20,
   "metadata": {},
   "outputs": [
    {
     "name": "stdout",
     "output_type": "stream",
     "text": [
      "5\n",
      "He has Python skill.\n",
      "He is a front end developer\n"
     ]
    }
   ],
   "source": [
    "person = {'first_name': 'Halima','last_name': 'Bello', 'age': '250', 'country': 'Nigeria', 'is_married': 'True', 'skills': ['JavaScript', 'React', 'Node', 'MongoDB', 'Python'], 'address':{'street': 'Sabuwar Kasuwa', 'zipcode': '3350'}}\n",
    "skill_list = person['skills']\n",
    "print(len(skill_list))\n",
    "\n",
    "if ('skills' in person):\n",
    "    if('Python' in person['skills']):\n",
    "        print('He has Python skill.')\n",
    "\n",
    "if ('JavaScript' and 'React' in person['skills']):\n",
    "    print('He is a front end developer')\n",
    "elif ('Node' and 'Python' and 'MangoDB' in person['skills']):\n",
    "    print('He is a backend developer')  \n",
    "elif ('React' and 'Node' and 'MangoDB' in person['skills']):\n",
    "    print('He is a fullstack developer')  \n",
    "else: \n",
    "    print('unknown tittle')\n",
    "\n",
    "if (person ['is_married'] is True) and (person['country']== 'Nigeria'):\n",
    "    print('{} {} lives in {}. He is married'.format(person['first_name'], person ['last_name'], person['countr']))"
   ]
  }
 ],
 "metadata": {
  "kernelspec": {
   "display_name": "newkernel",
   "language": "python",
   "name": "newkernel"
  },
  "language_info": {
   "codemirror_mode": {
    "name": "ipython",
    "version": 3
   },
   "file_extension": ".py",
   "mimetype": "text/x-python",
   "name": "python",
   "nbconvert_exporter": "python",
   "pygments_lexer": "ipython3",
   "version": "3.12.0"
  }
 },
 "nbformat": 4,
 "nbformat_minor": 2
}
