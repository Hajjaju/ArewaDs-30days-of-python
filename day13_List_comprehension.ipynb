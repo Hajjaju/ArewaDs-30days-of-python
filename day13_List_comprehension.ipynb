{
 "cells": [
  {
   "cell_type": "markdown",
   "metadata": {},
   "source": [
    "## Assignment day 13\n",
    "#### Exercises: day 13"
   ]
  },
  {
   "cell_type": "code",
   "execution_count": 1,
   "metadata": {},
   "outputs": [
    {
     "name": "stdout",
     "output_type": "stream",
     "text": [
      "[2, 4, 6]\n",
      "[1, 2, 3, 4, 5, 6, 7, 8, 9]\n",
      "[(0, 1, 0, 0, 0, 0, 0), (1, 1, 1, 1, 1, 1, 1), (2, 1, 2, 4, 8, 16, 32), (3, 1, 3, 9, 27, 81, 243), (4, 1, 4, 16, 64, 256, 1024), (5, 1, 5, 25, 125, 625, 3125), (6, 1, 6, 36, 216, 1296, 7776), (7, 1, 7, 49, 343, 2401, 16807), (8, 1, 8, 64, 512, 4096, 32768), (9, 1, 9, 81, 729, 6561, 59049), (10, 1, 10, 100, 1000, 10000, 100000)]\n",
      "[('Finland', 'Helsinki'), ('Sweden', 'Stockholm'), ('Norway', 'Oslo')]\n",
      "[{'Finland': 'Helsinki'}, {'Sweden': 'Stockholm'}, {'Norway': 'Oslo'}]\n",
      "['Asabeneh Yetayeh', 'David Smith', 'Donald Trump', 'Bill Gates']\n",
      "Slope (m): 1.0\n",
      "Y-Intercept (b): 1.0\n"
     ]
    }
   ],
   "source": [
    "# Filter only negative and zero in the list using list comprehension\n",
    "numbers = [-4, -3, -2, -1, 0, 2, 4, 6]\n",
    "positive = [i for i in numbers if i>0]\n",
    "print(positive)\n",
    "\n",
    "# Flatten the following list of lists of lists to a one dimensional list :\n",
    "list_of_lists =[[[1, 2, 3]], [[4, 5, 6]], [[7, 8, 9]]]\n",
    "\n",
    "flattened_list = [item for sublist in list_of_lists for subsublist in sublist for item in subsublist]\n",
    "print(flattened_list)\n",
    "\n",
    "# Using list comprehension create the following list of tuples:\n",
    "[(0, 1, 0, 0, 0, 0, 0),\n",
    "(1, 1, 1, 1, 1, 1, 1),\n",
    "(2, 1, 2, 4, 8, 16, 32),\n",
    "(3, 1, 3, 9, 27, 81, 243),\n",
    "(4, 1, 4, 16, 64, 256, 1024),\n",
    "(5, 1, 5, 25, 125, 625, 3125),\n",
    "(6, 1, 6, 36, 216, 1296, 7776),\n",
    "(7, 1, 7, 49, 343, 2401, 16807),\n",
    "(8, 1, 8, 64, 512, 4096, 32768),\n",
    "(9, 1, 9, 81, 729, 6561, 59049),\n",
    "(10, 1, 10, 100, 1000, 10000, 100000)]\n",
    "\n",
    "result = [(i, 1, i, i**2, i**3, i**4, i**5) for i in range(11)]\n",
    "\n",
    "# Example usage:\n",
    "print(result)\n",
    "\n",
    "# Flatten the following list to a new list:\n",
    "countries = [[('Finland', 'Helsinki')], [('Sweden', 'Stockholm')], [('Norway', 'Oslo')]]\n",
    "countries = [[('Finland', 'Helsinki')], [('Sweden', 'Stockholm')], [('Norway', 'Oslo')]]\n",
    "\n",
    "flattened_countries = [(country, capital) for sublist in countries for (country, capital) in sublist]\n",
    "print(flattened_countries)\n",
    "\n",
    "# Change the following list to a list of dictionaries:\n",
    "countries = [[('Finland', 'Helsinki')], [('Sweden', 'Stockholm')], [('Norway', 'Oslo')]]\n",
    "countries = [[('Finland', 'Helsinki')], [('Sweden', 'Stockholm')], [('Norway', 'Oslo')]]\n",
    "\n",
    "list_of_dictionaries = [{country: capital for country, capital in sublist} for sublist in countries]\n",
    "print(list_of_dictionaries)\n",
    "\n",
    "# Change the following list of lists to a list of concatenated strings:\n",
    "# names = [[('Asabeneh', 'Yetayeh')], [('David', 'Smith')], [('Donald', 'Trump')], [('Bill', 'Gates')]]\n",
    "names = [[('Asabeneh', 'Yetayeh')], [('David', 'Smith')], [('Donald', 'Trump')], [('Bill', 'Gates')]]\n",
    "\n",
    "list_of_strings = [' '.join(name) for sublist in names for name in sublist]\n",
    "print(list_of_strings)\n",
    "\n",
    "# Write a lambda function which can solve a slope or y-intercept of linear functions.\n",
    "# Lambda function to calculate the slope (m) of a linear function\n",
    "slope_function = lambda x1, y1, x2, y2: (y2 - y1) / (x2 - x1)\n",
    "\n",
    "# Lambda function to calculate the y-intercept (b) of a linear function\n",
    "y_intercept_function = lambda x, y, slope: y - slope * x\n",
    "\n",
    "# Example usage:\n",
    "# Given two points (x1, y1) and (x2, y2)\n",
    "x1, y1 = 1, 2\n",
    "x2, y2 = 3, 4\n",
    "\n",
    "slope_result = slope_function(x1, y1, x2, y2)\n",
    "y_intercept_result = y_intercept_function(x1, y1, slope_result)\n",
    "\n",
    "print(f\"Slope (m): {slope_result}\")\n",
    "print(f\"Y-Intercept (b): {y_intercept_result}\")"
   ]
  }
 ],
 "metadata": {
  "kernelspec": {
   "display_name": "newkernel",
   "language": "python",
   "name": "newkernel"
  },
  "language_info": {
   "codemirror_mode": {
    "name": "ipython",
    "version": 3
   },
   "file_extension": ".py",
   "mimetype": "text/x-python",
   "name": "python",
   "nbconvert_exporter": "python",
   "pygments_lexer": "ipython3",
   "version": "3.12.0"
  }
 },
 "nbformat": 4,
 "nbformat_minor": 2
}
