{
 "cells": [
  {
   "cell_type": "markdown",
   "metadata": {},
   "source": [
    "## Assignment day 6\n",
    "#### Excercises: Level 1"
   ]
  },
  {
   "cell_type": "code",
   "execution_count": 11,
   "metadata": {},
   "outputs": [
    {
     "name": "stdout",
     "output_type": "stream",
     "text": [
      "()\n",
      "('Fatima', 'Zainab', 'Halima', 'Rahama')\n",
      "('Auwal', 'Sani', 'Salisu', 'Rabiu')\n",
      "('Fatima', 'Zainab', 'Halima', 'Rahama', 'Auwal', 'Sani', 'Salisu', 'Rabiu')\n",
      "8\n",
      "('Fatima', 'Zainab', 'Halima', 'Rahama', 'Auwal', 'Sani', 'Salisu', 'Rabiu', 'Ibrahim', 'Hafsat')\n"
     ]
    }
   ],
   "source": [
    "Empty_tuple = ()\n",
    "print(Empty_tuple)\n",
    "brothers = ('Auwal', 'Sani', 'Salisu', 'Rabiu')\n",
    "sister = ('Fatima', 'Zainab', 'Halima', 'Rahama')\n",
    "print(sister)\n",
    "print(brothers)\n",
    "siblings = sister + brothers\n",
    "print(siblings)\n",
    "print(len(siblings))\n",
    "parents = ('Ibrahim', 'Hafsat')\n",
    "family_members = siblings + parents\n",
    "print(family_members)"
   ]
  },
  {
   "cell_type": "markdown",
   "metadata": {},
   "source": [
    "#### Exercise: Level 2"
   ]
  },
  {
   "cell_type": "code",
   "execution_count": 12,
   "metadata": {},
   "outputs": [
    {
     "name": "stdout",
     "output_type": "stream",
     "text": [
      "('mango', 'orange', 'apple', 'melon', 'carrot', 'lettuse', 'cabbage', 'cucumber', 'milk', 'butter', 'meat', 'youghut')\n",
      "['mango', 'orange', 'apple', 'melon', 'carrot', 'lettuse', 'cabbage', 'cucumber', 'milk', 'butter', 'meat', 'youghut']\n",
      "('lettuse',)\n",
      "['mango', 'orange', 'apple']\n",
      "['butter', 'meat', 'youghut']\n",
      "('Denmark', 'Finland', 'Iceland', 'Norwa', 'Sweden')\n",
      "False\n",
      "True\n"
     ]
    }
   ],
   "source": [
    "fruits = ('mango', 'orange', 'apple', 'melon')\n",
    "vegetables = ('carrot', 'lettuse', 'cabbage', 'cucumber')\n",
    "animal_products = ('milk', 'butter', 'meat', 'youghut')\n",
    "food_stuff_tp = fruits + vegetables + animal_products\n",
    "print(food_stuff_tp)\n",
    "food_stuff_lst = list(food_stuff_tp)\n",
    "print(food_stuff_lst)\n",
    "middle_item  = food_stuff_tp[5:6]\n",
    "print(middle_item)\n",
    "first_three_items = food_stuff_lst[0:3]\n",
    "print(first_three_items)\n",
    "last_three_items = food_stuff_lst[9:]\n",
    "print(last_three_items)\n",
    "del food_stuff_tp\n",
    "nordic_countries = ('Denmark', 'Finland', 'Iceland', 'Norwa', 'Sweden')\n",
    "print(nordic_countries)\n",
    "print('Estonia' in nordic_countries)\n",
    "print('Iceland' in nordic_countries)"
   ]
  }
 ],
 "metadata": {
  "kernelspec": {
   "display_name": "mynewv",
   "language": "python",
   "name": "python3"
  },
  "language_info": {
   "codemirror_mode": {
    "name": "ipython",
    "version": 3
   },
   "file_extension": ".py",
   "mimetype": "text/x-python",
   "name": "python",
   "nbconvert_exporter": "python",
   "pygments_lexer": "ipython3",
   "version": "3.12.0"
  }
 },
 "nbformat": 4,
 "nbformat_minor": 2
}
