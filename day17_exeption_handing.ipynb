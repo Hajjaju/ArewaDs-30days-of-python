{
 "cells": [
  {
   "cell_type": "markdown",
   "metadata": {},
   "source": [
    "## Assignment day 17\n",
    "#### Exercises: Day 17"
   ]
  },
  {
   "cell_type": "code",
   "execution_count": 1,
   "metadata": {},
   "outputs": [
    {
     "name": "stdout",
     "output_type": "stream",
     "text": [
      "Nordic countries: ['Finland', 'Sweden', 'Norway', 'Denmark', 'Iceland']\n",
      "Estonia: Estonia\n",
      "Rusia: Russia\n"
     ]
    }
   ],
   "source": [
    "# Question 1: names = ['Finland', 'Sweden', 'Norway','Denmark',\n",
    "# 'Iceland', 'Estonia','Russia']. Unpack the first five countries\n",
    "# and store them in a variable nordic_countries, store Estonia and \n",
    "# Russia in es, and ru respectively.\n",
    "\n",
    "names = ['Finland', 'Sweden', 'Norway','Denmark','Iceland', 'Estonia','Russia']\n",
    "\n",
    "*nordic_countries, es, ru = names\n",
    "print(f\"Nordic countries: {nordic_countries}\")\n",
    "print(f'Estonia: {es}')\n",
    "print(f\"Rusia: {ru}\")"
   ]
  }
 ],
 "metadata": {
  "kernelspec": {
   "display_name": "newkernel",
   "language": "python",
   "name": "newkernel"
  },
  "language_info": {
   "codemirror_mode": {
    "name": "ipython",
    "version": 3
   },
   "file_extension": ".py",
   "mimetype": "text/x-python",
   "name": "python",
   "nbconvert_exporter": "python",
   "pygments_lexer": "ipython3",
   "version": "3.12.0"
  }
 },
 "nbformat": 4,
 "nbformat_minor": 2
}
